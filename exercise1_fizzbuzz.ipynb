{
 "cells": [
  {
   "cell_type": "markdown",
   "metadata": {},
   "source": [
    "# Exercise No.1 \n",
    "## FizzBuzz\n",
    "```\n",
    "2019 June 4\n",
    "Cameron R. Cumberland\n",
    "```"
   ]
  },
  {
   "cell_type": "markdown",
   "metadata": {},
   "source": [
    "TASK\n",
    ">Write a program that prints the numbers from 1 to 100.\n",
    "For multiples of 3 print “Fizz” instead of the number.\n",
    "For the multiples of five print “Buzz”.\n",
    "For numbers which are multiples of both 3 and 5 print “FizzBuzz”.\n",
    "Too Easy? Prompt the user for the starting and ending numbers.\n",
    "\n",
    "---\n",
    "1. Print 1-101 (101 won't print)\n",
    "2. Calculate multiples of 3\n",
    "3. Replace with Fizz\n",
    "4. Calculate multiples of 5\n",
    "5. Replace with Buzz\n",
    "6. When both are TRUE, write FizzBuzz"
   ]
  },
  {
   "cell_type": "code",
   "execution_count": null,
   "metadata": {
    "scrolled": true
   },
   "outputs": [],
   "source": [
    "# A place to try out some ideas for the task--nothing definitive, but trying things out.\n",
    "\n",
    "for i in range(1, 101):\n",
    "    print(i)\n"
   ]
  },
  {
   "cell_type": "code",
   "execution_count": null,
   "metadata": {
    "scrolled": true
   },
   "outputs": [],
   "source": [
    "for i in range(1,101):\n",
    "\n",
    "    if i % 3 == 0:\n",
    "        print(\"Fizz\")\n",
    "\n",
    "    elif i % 5 == 0:\n",
    "        print(\"Buzz\")\n",
    "    \n",
    "    else:\n",
    "        print(i)"
   ]
  },
  {
   "cell_type": "code",
   "execution_count": 7,
   "metadata": {
    "scrolled": false
   },
   "outputs": [
    {
     "name": "stdout",
     "output_type": "stream",
     "text": [
      "1\n",
      "2\n",
      "Fizz\n",
      "4\n",
      "Buzz\n",
      "Fizz\n",
      "7\n",
      "8\n",
      "Fizz\n",
      "Buzz\n",
      "11\n",
      "Fizz\n",
      "13\n",
      "14\n",
      "FizzBuzz\n",
      "16\n",
      "17\n",
      "Fizz\n",
      "19\n",
      "Buzz\n",
      "Fizz\n",
      "22\n",
      "23\n",
      "Fizz\n",
      "Buzz\n",
      "26\n",
      "Fizz\n",
      "28\n",
      "29\n",
      "FizzBuzz\n",
      "31\n",
      "32\n",
      "Fizz\n",
      "34\n",
      "Buzz\n",
      "Fizz\n",
      "37\n",
      "38\n",
      "Fizz\n",
      "Buzz\n",
      "41\n",
      "Fizz\n",
      "43\n",
      "44\n",
      "FizzBuzz\n",
      "46\n",
      "47\n",
      "Fizz\n",
      "49\n",
      "Buzz\n",
      "Fizz\n",
      "52\n",
      "53\n",
      "Fizz\n",
      "Buzz\n",
      "56\n",
      "Fizz\n",
      "58\n",
      "59\n",
      "FizzBuzz\n",
      "61\n",
      "62\n",
      "Fizz\n",
      "64\n",
      "Buzz\n",
      "Fizz\n",
      "67\n",
      "68\n",
      "Fizz\n",
      "Buzz\n",
      "71\n",
      "Fizz\n",
      "73\n",
      "74\n",
      "FizzBuzz\n",
      "76\n",
      "77\n",
      "Fizz\n",
      "79\n",
      "Buzz\n",
      "Fizz\n",
      "82\n",
      "83\n",
      "Fizz\n",
      "Buzz\n",
      "86\n",
      "Fizz\n",
      "88\n",
      "89\n",
      "FizzBuzz\n",
      "91\n",
      "92\n",
      "Fizz\n",
      "94\n",
      "Buzz\n",
      "Fizz\n",
      "97\n",
      "98\n",
      "Fizz\n",
      "Buzz\n"
     ]
    }
   ],
   "source": [
    "# This creates a range, 1-100\n",
    "for i in range(1,101):\n",
    "    if i % 3 == 0 and i % 5 == 0: # This requires the number, i, to be both divisible by 5 and 3, then replaces it\n",
    "        print(\"FizzBuzz\")\n",
    "    \n",
    "    elif i % 3 == 0: # This requires the number, i, to be divisible by 3, and replaces it\n",
    "        print(\"Fizz\")\n",
    "\n",
    "    elif i % 5 == 0: # This requires the number, i, be divisible by 5, and replaces it\n",
    "        print(\"Buzz\")\n",
    "       \n",
    "    \n",
    "    \n",
    "    else:\n",
    "        print(i)"
   ]
  },
  {
   "cell_type": "code",
   "execution_count": null,
   "metadata": {},
   "outputs": [],
   "source": []
  }
 ],
 "metadata": {
  "kernelspec": {
   "display_name": "Python 3",
   "language": "python",
   "name": "python3"
  },
  "language_info": {
   "codemirror_mode": {
    "name": "ipython",
    "version": 3
   },
   "file_extension": ".py",
   "mimetype": "text/x-python",
   "name": "python",
   "nbconvert_exporter": "python",
   "pygments_lexer": "ipython3",
   "version": "3.7.3"
  }
 },
 "nbformat": 4,
 "nbformat_minor": 2
}
