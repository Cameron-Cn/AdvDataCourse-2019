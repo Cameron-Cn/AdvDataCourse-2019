{
 "cells": [
  {
   "cell_type": "markdown",
   "metadata": {},
   "source": [
    "# 0. Take in a text file, save as a string"
   ]
  },
  {
   "cell_type": "code",
   "execution_count": 1,
   "metadata": {},
   "outputs": [],
   "source": [
    "data = \"\"\n",
    "\n",
    "with open('princesses_avi.txt', 'r') as f:\n",
    "    data = f.read()"
   ]
  },
  {
   "cell_type": "markdown",
   "metadata": {},
   "source": [
    "# 1. Inspect the string"
   ]
  },
  {
   "cell_type": "code",
   "execution_count": 2,
   "metadata": {},
   "outputs": [
    {
     "data": {
      "text/plain": [
       "'Once upon a time, there were 12 princesses who liked to dance. The princesses had a father and he was king of the land. The king wasn\\'t so good at dancing, and was embarassed to say so. So, one day, the king asked the king\\'s best soldier, \"Soldier, can you teach me how to dance?\" The soldier answered, \"Yes, your highness, I can.\" And they lived happily ever after.'"
      ]
     },
     "execution_count": 2,
     "metadata": {},
     "output_type": "execute_result"
    }
   ],
   "source": [
    "data"
   ]
  },
  {
   "cell_type": "code",
   "execution_count": 4,
   "metadata": {},
   "outputs": [
    {
     "name": "stdout",
     "output_type": "stream",
     "text": [
      "Once upon a time, there were 12 princesses who liked to dance. The princesses had a father and he was king of the land. The king wasn't so good at dancing, and was embarassed to say so. So, one day, the king asked the king's best soldier, \"Soldier, can you teach me how to dance?\" The soldier answered, \"Yes, your highness, I can.\" And they lived happily ever after.\n"
     ]
    }
   ],
   "source": [
    "print(data)"
   ]
  },
  {
   "cell_type": "markdown",
   "metadata": {},
   "source": [
    "# 2. Cut the string up into individual words"
   ]
  },
  {
   "cell_type": "code",
   "execution_count": 3,
   "metadata": {},
   "outputs": [
    {
     "name": "stdout",
     "output_type": "stream",
     "text": [
      "['Once', 'upon', 'a', 'time,', 'there', 'were', '12', 'princesses', 'who', 'liked', 'to', 'dance.', 'The', 'princesses', 'had', 'a', 'father', 'and', 'he', 'was', 'king', 'of', 'the', 'land.', 'The', 'king', \"wasn't\", 'so', 'good', 'at', 'dancing,', 'and', 'was', 'embarassed', 'to', 'say', 'so.', 'So,', 'one', 'day,', 'the', 'king', 'asked', 'the', \"king's\", 'best', 'soldier,', '\"Soldier,', 'can', 'you', 'teach', 'me', 'how', 'to', 'dance?\"', 'The', 'soldier', 'answered,', '\"Yes,', 'your', 'highness,', 'I', 'can.\"', 'And', 'they', 'lived', 'happily', 'ever', 'after.']\n"
     ]
    }
   ],
   "source": [
    "# split up a string (by default, by spaces)\n",
    "list_1 = data.split() # individual words\n",
    "print(list_1)"
   ]
  },
  {
   "cell_type": "code",
   "execution_count": 5,
   "metadata": {},
   "outputs": [
    {
     "data": {
      "text/plain": [
       "['Once',\n",
       " 'upon',\n",
       " 'a',\n",
       " 'time,',\n",
       " 'there',\n",
       " 'were',\n",
       " '12',\n",
       " 'princesses',\n",
       " 'who',\n",
       " 'liked']"
      ]
     },
     "execution_count": 5,
     "metadata": {},
     "output_type": "execute_result"
    }
   ],
   "source": [
    "# just look at the 1st 10 items in a list\n",
    "list_1[:10]"
   ]
  },
  {
   "cell_type": "markdown",
   "metadata": {},
   "source": [
    "# 3. Realize we don't want punctuation mixed up with words"
   ]
  },
  {
   "cell_type": "markdown",
   "metadata": {},
   "source": [
    "# 4. Remove punctuation from original data before splitting"
   ]
  },
  {
   "cell_type": "code",
   "execution_count": 7,
   "metadata": {},
   "outputs": [
    {
     "name": "stdout",
     "output_type": "stream",
     "text": [
      "Once upon a time there were 12 princesses who liked to dance The princesses had a father and he was king of the land The king wasn't so good at dancing and was embarassed to say so So one day the king asked the king's best soldier Soldier can you teach me how to dance The soldier answered Yes your highness I can And they lived happily ever after\n"
     ]
    }
   ],
   "source": [
    "# make copy of data\n",
    "data_2 = \"\"\n",
    "punctuation = '.,?\"'  # to add the single quote (') you can use (\\') or an array =[\",\",'\"',\"'\",]\n",
    "for letter in data:\n",
    "    if letter not in punctuation:\n",
    "        data_2 += letter\n",
    "\n",
    "print(data_2) # inspect data_2"
   ]
  },
  {
   "cell_type": "markdown",
   "metadata": {},
   "source": [
    "# 5. Realize we want to compare words regardless of capitalization"
   ]
  },
  {
   "cell_type": "markdown",
   "metadata": {},
   "source": [
    "# 6. Convert the story to all lowercase letters"
   ]
  },
  {
   "cell_type": "code",
   "execution_count": 8,
   "metadata": {},
   "outputs": [
    {
     "name": "stdout",
     "output_type": "stream",
     "text": [
      "once upon a time there were 12 princesses who liked to dance the princesses had a father and he was king of the land the king wasn't so good at dancing and was embarassed to say so so one day the king asked the king's best soldier soldier can you teach me how to dance the soldier answered yes your highness i can and they lived happily ever after\n"
     ]
    }
   ],
   "source": [
    "# make our story entirely lowercase\n",
    "data_2 = str.lower(data_2)\n",
    "print(data_2)"
   ]
  },
  {
   "cell_type": "markdown",
   "metadata": {},
   "source": [
    "# 7. Make a dictionary of unique words where word frequency is the value"
   ]
  },
  {
   "cell_type": "code",
   "execution_count": 9,
   "metadata": {},
   "outputs": [
    {
     "name": "stdout",
     "output_type": "stream",
     "text": [
      "{'yes', 'father', 'happily', 'embarassed', 'say', 'good', 'me', 'had', 'can', 'the', \"king's\", 'your', 'they', 'lived', 'so', 'highness', 'after', 'once', 'upon', 'liked', 'were', 'one', 'asked', 'land', 'i', 'best', 'you', 'at', 'day', '12', 'dancing', 'of', 'a', 'soldier', 'he', 'to', 'and', 'princesses', 'answered', 'time', 'was', 'king', \"wasn't\", 'there', 'how', 'teach', 'ever', 'dance', 'who'}\n"
     ]
    }
   ],
   "source": [
    "# First, let's determine the keys by converting\n",
    "# our list of words into a unique set\n",
    "list_2 = data_2.split()\n",
    "set_1 = set(list_2) # convert a list to set removes duplicate words\n",
    "print(set_1)"
   ]
  },
  {
   "cell_type": "code",
   "execution_count": 10,
   "metadata": {},
   "outputs": [
    {
     "name": "stdout",
     "output_type": "stream",
     "text": [
      "{'yes': 0, 'father': 0, 'happily': 0, 'embarassed': 0, 'say': 0, 'good': 0, 'me': 0, 'had': 0, 'can': 0, 'the': 0, \"king's\": 0, 'your': 0, 'they': 0, 'lived': 0, 'so': 0, 'highness': 0, 'after': 0, 'once': 0, 'upon': 0, 'liked': 0, 'were': 0, 'one': 0, 'asked': 0, 'land': 0, 'i': 0, 'best': 0, 'you': 0, 'at': 0, 'day': 0, '12': 0, 'dancing': 0, 'of': 0, 'a': 0, 'soldier': 0, 'he': 0, 'to': 0, 'and': 0, 'princesses': 0, 'answered': 0, 'time': 0, 'was': 0, 'king': 0, \"wasn't\": 0, 'there': 0, 'how': 0, 'teach': 0, 'ever': 0, 'dance': 0, 'who': 0}\n"
     ]
    }
   ],
   "source": [
    "# Secondly, let's create an empty dictionary where all the values are 0\n",
    "dict_1 = dict.fromkeys(set_1, 0)\n",
    "print(dict_1)"
   ]
  },
  {
   "cell_type": "code",
   "execution_count": 11,
   "metadata": {},
   "outputs": [
    {
     "name": "stdout",
     "output_type": "stream",
     "text": [
      "{'yes': 1, 'father': 1, 'happily': 1, 'embarassed': 1, 'say': 1, 'good': 1, 'me': 1, 'had': 1, 'can': 2, 'the': 6, \"king's\": 1, 'your': 1, 'they': 1, 'lived': 1, 'so': 3, 'highness': 1, 'after': 1, 'once': 1, 'upon': 1, 'liked': 1, 'were': 1, 'one': 1, 'asked': 1, 'land': 1, 'i': 1, 'best': 1, 'you': 1, 'at': 1, 'day': 1, '12': 1, 'dancing': 1, 'of': 1, 'a': 2, 'soldier': 3, 'he': 1, 'to': 3, 'and': 3, 'princesses': 2, 'answered': 1, 'time': 1, 'was': 2, 'king': 3, \"wasn't\": 1, 'there': 1, 'how': 1, 'teach': 1, 'ever': 1, 'dance': 2, 'who': 1}\n"
     ]
    }
   ],
   "source": [
    "# Thirdly and lastly, we must update the count values for each word\n",
    "# by looping through our story and counting up each word\n",
    "\n",
    "for word in list_2:\n",
    "    if word in dict_1:\n",
    "        dict_1[word] += 1\n",
    "        \n",
    "print(dict_1)"
   ]
  },
  {
   "cell_type": "code",
   "execution_count": 21,
   "metadata": {},
   "outputs": [
    {
     "name": "stdout",
     "output_type": "stream",
     "text": [
      "12 1\n",
      "a 2\n",
      "after 1\n",
      "and 3\n",
      "answered 1\n",
      "asked 1\n",
      "at 1\n",
      "best 1\n",
      "can 2\n",
      "dance 2\n",
      "dancing 1\n",
      "day 1\n",
      "embarassed 1\n",
      "ever 1\n",
      "father 1\n",
      "good 1\n",
      "had 1\n",
      "happily 1\n",
      "he 1\n",
      "highness 1\n",
      "how 1\n",
      "i 1\n",
      "king 3\n",
      "king's 1\n",
      "land 1\n",
      "liked 1\n",
      "lived 1\n",
      "me 1\n",
      "of 1\n",
      "once 1\n",
      "one 1\n",
      "princesses 2\n",
      "say 1\n",
      "so 3\n",
      "soldier 3\n",
      "teach 1\n",
      "the 6\n",
      "there 1\n",
      "they 1\n",
      "time 1\n",
      "to 3\n",
      "upon 1\n",
      "was 2\n",
      "wasn't 1\n",
      "were 1\n",
      "who 1\n",
      "yes 1\n",
      "you 1\n",
      "your 1\n"
     ]
    }
   ],
   "source": [
    "for key in sorted(dict_1):\n",
    "    print(key, dict_1[key])"
   ]
  },
  {
   "cell_type": "code",
   "execution_count": null,
   "metadata": {},
   "outputs": [],
   "source": []
  },
  {
   "cell_type": "code",
   "execution_count": null,
   "metadata": {},
   "outputs": [],
   "source": []
  },
  {
   "cell_type": "code",
   "execution_count": null,
   "metadata": {},
   "outputs": [],
   "source": []
  },
  {
   "cell_type": "code",
   "execution_count": null,
   "metadata": {},
   "outputs": [],
   "source": []
  },
  {
   "cell_type": "code",
   "execution_count": null,
   "metadata": {},
   "outputs": [],
   "source": []
  },
  {
   "cell_type": "code",
   "execution_count": null,
   "metadata": {},
   "outputs": [],
   "source": []
  }
 ],
 "metadata": {
  "kernelspec": {
   "display_name": "Python 3",
   "language": "python",
   "name": "python3"
  },
  "language_info": {
   "codemirror_mode": {
    "name": "ipython",
    "version": 3
   },
   "file_extension": ".py",
   "mimetype": "text/x-python",
   "name": "python",
   "nbconvert_exporter": "python",
   "pygments_lexer": "ipython3",
   "version": "3.7.3"
  }
 },
 "nbformat": 4,
 "nbformat_minor": 2
}
