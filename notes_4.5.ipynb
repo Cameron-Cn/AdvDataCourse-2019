{
 "cells": [
  {
   "cell_type": "markdown",
   "metadata": {},
   "source": [
    "# Notes Week 4, Day 5 { &#9049; }\n",
    "### 2019 June 28\n",
    "##### Cameron.Cn | &#26607;&#26234;&#26126;"
   ]
  },
  {
   "cell_type": "markdown",
   "metadata": {},
   "source": [
    "---\n",
    "---\n",
    "## I.D.E.A.s for Final data Project\n",
    "**Translated books sold in the US** | https://towardsdatascience.com/epoch-vs-iterations-vs-batch-size-4dfb9c7ce9c9?gi=6644515e3245\n",
    "\n",
    "**US students studying abroad** | https://www.iie.org/Research-and-Insights/Open-Doors/Fact-Sheets-and-Infographics/Data-by-Region-Fact-Sheets\n",
    "\n",
    "**WTO International Trade Data** | https://data.wto.org/\n",
    "\n",
    "**NASA SEDAC(SocoEconomic Data and Applications Center)** | https://sedac.ciesin.columbia.edu/data/set/popdynamics-pop-projection-ssp-downscaled-1km-2010-2100\n",
    "\n",
    "> Made an account @ (https://search.earthdata.nasa.gov)\n",
    "\n",
    "\n",
    "**Books in Translation** | https://www.publishersweekly.com/pw/translation/search/index.html?pub_date_year_2019=2019&translator_gender=&submit=Search&author=&pub_date_year_2020=2020&pub_date_year_2016=2016&submitting=1&translator=&pub_date_year_2010=2010&isbn=&publisher=&pub_date_year_2017=2017&country=&pub_date_year_2012=2012&language=&pub_date_year_2013=2013&pub_date_year_2018=2018&pub_date_year_2009=2009&pub_date_year_2015=2015&author_gender=&genre=&pub_date_year_2011=2011&pub_date_year_2008=2008&pub_date_year_2014=2014&g-recaptcha-response=03AOLTBLSvfw5sdhDyKlSWtXaW45bMFGWUdaels64SIwTSKSnSJR1oIxtbY1jur02Sw7ZXmIWznzh_x3gW9bjkPiFRFL9oF6G_eMgeXFtFh7ufyscjEayQd1KvO5JW6g5rXx5paMI2qc0kadCCpimmCSI-Kdr9WxHC-Tpb3p9jfgeFLgHD6VS0CaOZtJKNlq_r-GvElnTiPRI89D7VA62kSVSpeyiKT5syXFs4g9OJG5XqG8JYhCyOmhAapmNrruWT_hAW9ErYiH7FzX5QMozJ4Jx6_J0BMWG46lCkyr0S8W2ucQYmekpilNOxR1kw49D9snwxvQYIToTlABIqKUVwPQKnXMiHpUevhw&title=&tab=1\n",
    "\n",
    "\n",
    "\n",
    "---"
   ]
  },
  {
   "cell_type": "markdown",
   "metadata": {},
   "source": [
    "---\n",
    "\n",
    "---\n",
    "**Cooking (Food) with Chemistry** | https://www.amazon.com/Flavor-Matrix-Science-Ingredients-Extraordinary/dp/0544809963"
   ]
  },
  {
   "cell_type": "code",
   "execution_count": null,
   "metadata": {},
   "outputs": [],
   "source": []
  },
  {
   "cell_type": "code",
   "execution_count": null,
   "metadata": {},
   "outputs": [],
   "source": []
  }
 ],
 "metadata": {
  "kernelspec": {
   "display_name": "Python 3",
   "language": "python",
   "name": "python3"
  },
  "language_info": {
   "codemirror_mode": {
    "name": "ipython",
    "version": 3
   },
   "file_extension": ".py",
   "mimetype": "text/x-python",
   "name": "python",
   "nbconvert_exporter": "python",
   "pygments_lexer": "ipython3",
   "version": "3.7.3"
  }
 },
 "nbformat": 4,
 "nbformat_minor": 2
}
