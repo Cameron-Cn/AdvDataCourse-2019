{
 "cells": [
  {
   "cell_type": "markdown",
   "metadata": {},
   "source": [
    "# Notes 1.4\n",
    "#### 2019 June 6\n",
    "`Cameron.Cn`"
   ]
  },
  {
   "cell_type": "markdown",
   "metadata": {},
   "source": [
    "---\n",
    "### Professor's Review"
   ]
  },
  {
   "cell_type": "markdown",
   "metadata": {},
   "source": [
    "**Wes McKinney developed Pandas (data for python)    | https://www.youtube.com/watch?v=Q7y9l-L8yiU**\n",
    "\n",
    "**Automate the Boring Stuff With Python | https://automatetheboringstuff.com/**\n",
    "\n"
   ]
  },
  {
   "cell_type": "markdown",
   "metadata": {},
   "source": [
    "```py\n",
    "# Writing our Dictionary Code (exercise5_build-a-dictionary from June 5)\n",
    "\n",
    "quit = False   # allows for easy exiting of the program\n",
    "accounts = ()\n",
    "while quit == False:\n",
    "    nmbr = input(\"Enter a command or press (q) to quit: \")\n",
    "    \n",
    "    if nmbr.lower()=='q'.lower():\n",
    "        quit = True\n",
    "    else:\n",
    "        key = int(nmbr)\n",
    "        if amounts.get(key):\n",
    "            print(\"You have entered\" + amounts[key])\n",
    "        else:\n",
    "            value = input(\"Enter the value or press (q) to quit: \")\n",
    "            if value.lower() != 'q'.lower():   # if value.lower is not key, then we assign it to the value entered\n",
    "                amounts[key] = value\n",
    "            else:\n",
    "                quit = True\n",
    "                \n",
    "print(\"\\nHere are the values you have entered: \")\n",
    "theKeys = list(amounts.keys())\n",
    "theKeys.sort()\n",
    "for key in theKeys:\n",
    "    print(key,amounts[key])\n",
    "    \n",
    "    ```\n",
    "    \n",
    "    \n",
    "`if` and `while` statements are \"Flow of Control\" methods\n",
    "\n",
    "Lines are run sequentially, top to bottom.\n",
    "\n",
    "In python, indentation denotes code blocks ( indentation and outdentation)"
   ]
  },
  {
   "cell_type": "markdown",
   "metadata": {},
   "source": [
    "\n",
    "#### Zork: Instructor's Variant\n",
    "\n",
    "one possible way (35 lines!) | https://github.com/datasummer19/adv-data-analytics/blob/master/zork_my_first.py\n",
    "\n",
    "```py\n",
    "\n",
    "\n",
    "\n",
    "```"
   ]
  },
  {
   "cell_type": "code",
   "execution_count": null,
   "metadata": {},
   "outputs": [],
   "source": []
  },
  {
   "cell_type": "code",
   "execution_count": null,
   "metadata": {},
   "outputs": [],
   "source": []
  },
  {
   "cell_type": "markdown",
   "metadata": {},
   "source": [
    "---\n",
    "### SQL and Other Goodies"
   ]
  },
  {
   "cell_type": "markdown",
   "metadata": {},
   "source": [
    "```\n",
    "MySQL Workbench | MySQL Graphical User Interface\n",
    "\n",
    "SQL allows for user-permissions and working groups\n",
    "\n",
    "--Relational data\n",
    "\n",
    "stored in sets (what we see as tables)\n",
    "\n",
    "&npsb rows = records | column = field\n",
    "\n",
    "databases are most efficient when they have several rules in mind on creation (structure, links, relationships)\n",
    "\n",
    "Create | Read | Update | Delete  \n",
    "    'CRUD'\n",
    "\n",
    "DataBase Management Systems: SQL, OracleSQL, H2, SQL Server, PostgreSQL\n",
    "Databases but NOT Management: Excel, NoSQL\n",
    "\n",
    "ACID Rules for Databases\n",
    "\n",
    "A - Atomicity\n",
    "    Each record should be stored in fields which represent the smallest component of data needed \n",
    "    (i.e. 'Your Name' should be two fields: 'first_name' , 'last_name'\n",
    "    \n",
    "C - Consistency\n",
    "    Validity of data in terms of rules. Data is valid, not junk.\n",
    "\n",
    "\n",
    "I - Isolation\n",
    "    All transactions and changes will occur in isolation and not interfere with other fields\n",
    "\n",
    "D - Durability\n",
    "    Once data is commited to the system, it must remain saved and stored safely and permanently \n",
    "        (unless deletion is needed)\n",
    "\n",
    "```"
   ]
  },
  {
   "cell_type": "code",
   "execution_count": null,
   "metadata": {},
   "outputs": [],
   "source": []
  }
 ],
 "metadata": {
  "kernelspec": {
   "display_name": "Python 3",
   "language": "python",
   "name": "python3"
  },
  "language_info": {
   "codemirror_mode": {
    "name": "ipython",
    "version": 3
   },
   "file_extension": ".py",
   "mimetype": "text/x-python",
   "name": "python",
   "nbconvert_exporter": "python",
   "pygments_lexer": "ipython3",
   "version": "3.7.3"
  }
 },
 "nbformat": 4,
 "nbformat_minor": 2
}
