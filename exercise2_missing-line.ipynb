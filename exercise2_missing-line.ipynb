{
 "cells": [
  {
   "cell_type": "markdown",
   "metadata": {},
   "source": [
    "# Exercise No. 2 | \"employeepay.py\"\n",
    "### 2019 June 4 `Cameron R. Cn`"
   ]
  },
  {
   "cell_type": "markdown",
   "metadata": {},
   "source": [
    "Program: employeepay.py\n",
    "Project 2.10\n",
    "\n",
    "Compute an employee's total weekly pay.\n",
    "\n",
    "Useful Facts:\n",
    "    An employee's total weekly pay equals the hourly wage multiplied by the total number of regular hours\n",
    "    plus any overtime. Overtime pay equals the total overtime hours multiplied by 1.5\n",
    "    times the hourly wage.\n",
    "    \n",
    "Task:\n",
    "    Write a program that takes as inputs the hourly wage,\n",
    "    total regular hours, and total overtime hours and displays an employee's\n",
    "    total weekly pay.\n",
    "  \n",
    "```py\n",
    "# THIS IS THE PROJECT AS PROVIDED IN THE PROBLEM\n",
    "\n",
    "#Requests the inputs\n",
    "wage = float(input(\"Enter Hourly Wage: $_\"))\n",
    "regularHours = float(input(\"Enter Regular Hours Worked: \"))\n",
    "overtimeHours = float(input(\"Enter Overtime Worked: \"))\n",
    "\n",
    "#Compute the resulting Weekly Pay\n",
    "#THIS LINE IS MISSING\n",
    "\n",
    "#Display the result\n",
    "print(\"The total weekly pay for employes is $\" + str(round(totalPay, 2)))\n",
    "```"
   ]
  },
  {
   "cell_type": "code",
   "execution_count": 2,
   "metadata": {},
   "outputs": [
    {
     "name": "stdout",
     "output_type": "stream",
     "text": [
      "Employee Name: Jackson\n",
      "Enter Hourly Wage: $10\n",
      "Enter Regular Hours Worked: 10\n",
      "Enter Overtime Worked: 10\n",
      "Total weekly pay for Jackson is: $250.0\n"
     ]
    }
   ],
   "source": [
    "# We did exercise 2 (employeepay.py) today:\n",
    "\n",
    "#Requests the inputs\n",
    "staffName = str(input(\"Employee Name: \")) # added this for fun\n",
    "wage = float(input(\"Enter Hourly Wage: $\"))\n",
    "regularHours = float(input(\"Enter Regular Hours Worked: \"))\n",
    "overtimeHours = float(input(\"Enter Overtime Worked: \"))\n",
    "\n",
    "#Compute totalPay\n",
    "# (This line was missing)\n",
    "\n",
    "standardPay = (wage * regularHours)  # StandardPay, because we have to ADD overtimePay later on\n",
    "totalPay = standardPay + (overtimeHours * (1.5*wage)) # totalPay includes overtimePay, if there is any\n",
    "\n",
    "#Display the result\n",
    "#print(staffName) \n",
    "print(\"Total weekly pay for\" ,staffName, \"is: $\" + str(round(totalPay, 2)))"
   ]
  },
  {
   "cell_type": "code",
   "execution_count": 2,
   "metadata": {},
   "outputs": [
    {
     "name": "stdout",
     "output_type": "stream",
     "text": [
      "Enter Hourly Wage: $25\n",
      "Enter Regular Hours Worked: 35\n",
      "Enter Overtime Worked: 5\n",
      "The total weekly pay for employes is $1062.5\n"
     ]
    }
   ],
   "source": [
    "# We did exercise 2 (employeepay.py) today:\n",
    "\n",
    "#Requests the inputs\n",
    "staffName = str(input(\"Employee Name: \")) # added this for fun\n",
    "wage = float(input(\"Enter Hourly Wage: $\"))\n",
    "regularHours = float(input(\"Enter Regular Hours Worked: \"))\n",
    "overtimeHours = float(input(\"Enter Overtime Worked: \"))\n",
    "\n",
    "#Compute totalPay\n",
    "# (This line was missing)\n",
    "\n",
    "standardPay = (wage * regularHours)  # StandardPay, because we have to ADD overtimePay later on\n",
    "totalPay = standardPay + (overtimeHours * (1.5*wage)) # totalPay includes overtimePay, if there is any\n",
    "\n",
    "#Display the result\n",
    "#print(staffName) \n",
    "print(\"Total weekly pay for\" ,staffName, \"is: $\" + str(round(totalPay, 2)))"
   ]
  },
  {
   "cell_type": "code",
   "execution_count": 5,
   "metadata": {},
   "outputs": [
    {
     "name": "stdout",
     "output_type": "stream",
     "text": [
      "Employee Name: Air Bud\n",
      "Enter Hourly Wage: $54\n",
      "Enter Regular Hours Worked: 26\n",
      "Enter Overtime Worked: 3\n",
      "Total weekly pay for Air Bud is: $1647.0\n"
     ]
    }
   ],
   "source": [
    "# We did exercise 2 (employeepay.py) today:\n",
    "\n",
    "#Requests the inputs\n",
    "staffName = str(input(\"Employee Name: \")) # added this for fun\n",
    "wage = float(input(\"Enter Hourly Wage: $\"))\n",
    "regularHours = float(input(\"Enter Regular Hours Worked: \"))\n",
    "overtimeHours = float(input(\"Enter Overtime Worked: \"))\n",
    "\n",
    "#Compute totalPay\n",
    "# (This line was missing)\n",
    "\n",
    "standardPay = (wage * regularHours)  # StandardPay, because we have to ADD overtimePay later on\n",
    "totalPay = standardPay + (overtimeHours * (1.5*wage)) # totalPay includes overtimePay, if there is any\n",
    "\n",
    "#Display the result\n",
    "#print(staffName) \n",
    "print(\"Total weekly pay for\" ,staffName, \"is: $\" + str(round(totalPay, 2)))"
   ]
  },
  {
   "cell_type": "code",
   "execution_count": 4,
   "metadata": {},
   "outputs": [
    {
     "name": "stdout",
     "output_type": "stream",
     "text": [
      "Employee Name: CEO BigShot\n",
      "Enter Hourly Wage: $1068\n",
      "Enter Regular Hours Worked: 40\n",
      "Enter Overtime Worked: 26\n",
      "Total weekly pay for CEO BigShot is: $84372.0\n"
     ]
    }
   ],
   "source": [
    "# We did exercise 2 (employeepay.py) today:\n",
    "\n",
    "#Requests the inputs\n",
    "staffName = str(input(\"Employee Name: \")) # added this for fun\n",
    "wage = float(input(\"Enter Hourly Wage: $\"))\n",
    "regularHours = float(input(\"Enter Regular Hours Worked: \"))\n",
    "overtimeHours = float(input(\"Enter Overtime Worked: \"))\n",
    "\n",
    "#Compute totalPay\n",
    "# (This line was missing)\n",
    "\n",
    "standardPay = (wage * regularHours)  # StandardPay, because we have to ADD overtimePay later on\n",
    "totalPay = standardPay + (overtimeHours * (1.5*wage)) # totalPay includes overtimePay, if there is any\n",
    "\n",
    "#Display the result\n",
    "#print(staffName) \n",
    "print(\"Total weekly pay for\" ,staffName, \"is: $\" + str(round(totalPay, 2)))"
   ]
  },
  {
   "cell_type": "code",
   "execution_count": null,
   "metadata": {},
   "outputs": [],
   "source": []
  }
 ],
 "metadata": {
  "kernelspec": {
   "display_name": "Python 3",
   "language": "python",
   "name": "python3"
  },
  "language_info": {
   "codemirror_mode": {
    "name": "ipython",
    "version": 3
   },
   "file_extension": ".py",
   "mimetype": "text/x-python",
   "name": "python",
   "nbconvert_exporter": "python",
   "pygments_lexer": "ipython3",
   "version": "3.7.3"
  }
 },
 "nbformat": 4,
 "nbformat_minor": 2
}
