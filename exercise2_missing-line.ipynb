{
 "cells": [
  {
   "cell_type": "markdown",
   "metadata": {},
   "source": [
    "# Exercise No. 2 | \"employeepay.py\"\n",
    "### 2019 June 4 `Cameron R. Cn`"
   ]
  },
  {
   "cell_type": "markdown",
   "metadata": {},
   "source": [
    "Program: employeepay.py\n",
    "Project 2.10\n",
    "\n",
    "Compute an employee's total weekly pay.\n",
    "\n",
    "Useful Facts:\n",
    "    An employee's total weekly pay equals the hourly wage multiplied by the total number of regular hours\n",
    "    plus any overtime. Overtime pay equals the total overtime hours multiplied by 1.5\n",
    "    times the hourly wage.\n",
    "    \n",
    "Task:\n",
    "    Write a program that takes as inputs the hourly wage,\n",
    "    total regular hours, and total overtime hours and displays an employee's\n",
    "    total weekly pay.\n",
    "  \n",
    "```py\n",
    "# THIS IS THE PROJECT AS PROVIDED IN THE PROBLEM\n",
    "\n",
    "#Requests the inputs\n",
    "wage = float(input(\"Enter Hourly Wage: $_\"))\n",
    "regularHours = float(input(\"Enter Regular Hours Worked: \"))\n",
    "overtimeHours = float(input(\"Enter Overtime Worked: \"))\n",
    "\n",
    "#Compute the resulting Weekly Pay\n",
    "#THIS LINE IS MISSING\n",
    "\n",
    "#Display the result\n",
    "print(\"The total weekly pay for employes is $\" + str(round(totalPay, 2)))\n",
    "```"
   ]
  },
  {
   "cell_type": "code",
   "execution_count": 9,
   "metadata": {},
   "outputs": [
    {
     "name": "stdout",
     "output_type": "stream",
     "text": [
      "Enter Hourly Wage: $_10\n",
      "Enter Regular Hours Worked: 10\n",
      "Enter Overtime Worked: 10\n",
      "The total weekly pay for employes is $250.0\n"
     ]
    }
   ],
   "source": [
    "\n",
    "#Requests the inputs\n",
    "wage = float(input(\"Enter Hourly Wage: $_\"))\n",
    "regularHours = float(input(\"Enter Regular Hours Worked: \"))\n",
    "overtimeHours = float(input(\"Enter Overtime Worked: \"))\n",
    "\n",
    "#Compute the resulting Weekly Pay\n",
    "#THIS LINE IS MISSING\n",
    "\n",
    "standardPay = (wage * regularHours)  # StandardPay, because we have to ADD overtimePay later on\n",
    "totalPay = standardPay + (overtimeHours * (1.5*wage)) # totalPay includes overtimePay\n",
    "\n",
    "#Display the result\n",
    "print(\"The total weekly pay for employes is $\" + str(round(totalPay, 2)))\n",
    "\n"
   ]
  },
  {
   "cell_type": "code",
   "execution_count": 5,
   "metadata": {},
   "outputs": [
    {
     "name": "stdout",
     "output_type": "stream",
     "text": [
      "Enter Hourly Wage: $_35\n",
      "Enter Regular Hours Worked: 35\n",
      "Enter Overtime Worked: 5\n",
      "The total weekly pay for employes is $1487.5\n"
     ]
    }
   ],
   "source": [
    "\n",
    "#Requests the inputs\n",
    "wage = float(input(\"Enter Hourly Wage: $_\"))\n",
    "regularHours = float(input(\"Enter Regular Hours Worked: \"))\n",
    "overtimeHours = float(input(\"Enter Overtime Worked: \"))\n",
    "\n",
    "#Compute the resulting Weekly Pay\n",
    "#THIS LINE IS MISSING\n",
    "\n",
    "standardPay = (wage * regularHours)  # StandardPay, because we have to ADD overtimePay later on\n",
    "totalPay = standardPay + (overtimeHours * (1.5*wage)) # totalPay includes overtimePay\n",
    "\n",
    "#Display the result\n",
    "print(\"The total weekly pay for employes is $\" + str(round(totalPay, 2)))"
   ]
  },
  {
   "cell_type": "code",
   "execution_count": 6,
   "metadata": {},
   "outputs": [
    {
     "name": "stdout",
     "output_type": "stream",
     "text": [
      "Enter Hourly Wage: $_2.53\n",
      "Enter Regular Hours Worked: 36.8\n",
      "Enter Overtime Worked: 4\n",
      "The total weekly pay for employes is $108.28\n"
     ]
    }
   ],
   "source": [
    "\n",
    "#Requests the inputs\n",
    "wage = float(input(\"Enter Hourly Wage: $_\"))\n",
    "regularHours = float(input(\"Enter Regular Hours Worked: \"))\n",
    "overtimeHours = float(input(\"Enter Overtime Worked: \"))\n",
    "\n",
    "#Compute the resulting Weekly Pay\n",
    "#THIS LINE IS MISSING\n",
    "\n",
    "standardPay = (wage * regularHours)  # StandardPay, because we have to ADD overtimePay later on\n",
    "totalPay = standardPay + (overtimeHours * (1.5*wage)) # totalPay includes overtimePay\n",
    "\n",
    "#Display the result\n",
    "print(\"The total weekly pay for employes is $\" + str(round(totalPay, 2)))"
   ]
  },
  {
   "cell_type": "code",
   "execution_count": 7,
   "metadata": {},
   "outputs": [
    {
     "name": "stdout",
     "output_type": "stream",
     "text": [
      "Enter Hourly Wage: $_1057\n",
      "Enter Regular Hours Worked: 40\n",
      "Enter Overtime Worked: 25\n",
      "The total weekly pay for employes is $81917.5\n"
     ]
    }
   ],
   "source": [
    "\n",
    "#Requests the inputs\n",
    "wage = float(input(\"Enter Hourly Wage: $_\"))\n",
    "regularHours = float(input(\"Enter Regular Hours Worked: \"))\n",
    "overtimeHours = float(input(\"Enter Overtime Worked: \"))\n",
    "\n",
    "#Compute the resulting Weekly Pay\n",
    "#THIS LINE IS MISSING\n",
    "\n",
    "standardPay = (wage * regularHours)  # StandardPay, because we have to ADD overtimePay later on\n",
    "totalPay = standardPay + (overtimeHours * (1.5*wage)) # totalPay includes overtimePay\n",
    "\n",
    "#Display the result\n",
    "print(\"The total weekly pay for employes is $\" + str(round(totalPay, 2)))"
   ]
  },
  {
   "cell_type": "code",
   "execution_count": null,
   "metadata": {},
   "outputs": [],
   "source": []
  }
 ],
 "metadata": {
  "kernelspec": {
   "display_name": "Python 3",
   "language": "python",
   "name": "python3"
  },
  "language_info": {
   "codemirror_mode": {
    "name": "ipython",
    "version": 3
   },
   "file_extension": ".py",
   "mimetype": "text/x-python",
   "name": "python",
   "nbconvert_exporter": "python",
   "pygments_lexer": "ipython3",
   "version": "3.7.3"
  }
 },
 "nbformat": 4,
 "nbformat_minor": 2
}
