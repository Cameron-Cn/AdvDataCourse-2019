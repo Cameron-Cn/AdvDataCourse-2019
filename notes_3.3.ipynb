{
 "cells": [
  {
   "cell_type": "markdown",
   "metadata": {},
   "source": [
    "# Notes Week 3, Day 3 {\t&#20161;&#21200; } \t\n",
    "\n",
    "### 2019 June 19\n",
    "## Cameron.Cn | &#26607;&#26234;&#26126; \n",
    "`HTML code for my other name!\n",
    "&#26607;&#26234;&#26126; `"
   ]
  },
  {
   "cell_type": "markdown",
   "metadata": {},
   "source": [
    "---\n",
    "#### Jupyter Notebook Keyboard Shortcuts (Since we are working here so much!)<br>\n",
    "&#8594; https://www.cheatography.com/weidadeyue/cheat-sheets/jupyter-notebook/<br>\n",
    "&#8594; https://shortcutworld.com/Jupyter-Notebook/win/Jupyter-Notebook_Shortcuts\n",
    "\n",
    "> ### Shortcuts of Note\n",
    ">>|Effect | Keys|\n",
    "|---|---|\n",
    "|To Markdown | Esc + M |\n",
    "|Insert Below | Esc + B |\n",
    "| Insert Above | Esc + A |\n",
    "|Delete Cell | Esc + DD |\n",
    "|To Code | Esc + Y|\n",
    "|Merge With Below | Esc + Shift + M |\n",
    "| Split Cell (At Cursor) | Ctrl + Shift + - |"
   ]
  },
  {
   "cell_type": "markdown",
   "metadata": {},
   "source": [
    "---\n",
    "---\n",
    "## JSON (Data) and Selenium (Web Automation)  `The future is Ours! {&#9773;}` &#9773; `11100010 10011000 10101101`\n",
    "---"
   ]
  },
  {
   "cell_type": "markdown",
   "metadata": {},
   "source": [
    "* Javascript Object Notation (text only)\n",
    "* JSON is lightweight storage format for storing and transporting data\n",
    "* \"Self-Describing\" in that it is potentially human-readable\n",
    "* Syntax is from JS\n",
    "\n",
    "```js\n",
    "{ \n",
    "\"employees\":[                                  // object\n",
    "    {\"firstName\":\"John\",\"lastName\":\"Doe\"},     // entry 1\n",
    "    {\"firstName\":\"Darly\",\"lastName\":\"Doe\"},    // entry 2\n",
    "    {\"firstName\":\"Yiru\",\"lastName\":\"Xiu\"}      // ... JSON is a somewhat heavy or high-redundancy format (cf. CSV)\n",
    "]\n",
    "}\n",
    "```\n",
    "\n",
    "#### Rules for Syntax\n",
    "* Data is in name/value pairs. \n",
    "* Separated by commas\n",
    "* Curly braces hold objects\n",
    "* Square braces hold arrays\n",
    "\n",
    "#### JSON Objects\n",
    "* {\"field name\" : \"value}\n",
    "*\n",
    "\n",
    ">\n",
    "#### Misc. Notes\n",
    "* %% is a magic command, allowing us to talk to the OS underneath Python\n",
    "* %% bash (magic command in jupyter, look up documentation) | https://ipython.readthedocs.io/en/stable/interactive/magics.html\n",
    "* \n"
   ]
  },
  {
   "cell_type": "markdown",
   "metadata": {},
   "source": [
    "![Wiki: Tessearact](https://upload.wikimedia.org/wikipedia/commons/thumb/7/71/12-cube.svg/240px-12-cube.svg.png)"
   ]
  },
  {
   "cell_type": "markdown",
   "metadata": {},
   "source": [
    "---\n",
    "---\n",
    ">> ## Logistic Regresion\n",
    "With Additional Instruction from Susan Li | https://github.com/susanli2016/Machine-Learning-with-Python/blob/master/Logistic%20Regression%20balanced.ipynb\n",
    "\n",
    ">(Data modelled in another workbook)\n",
    "\n",
    "---"
   ]
  },
  {
   "cell_type": "markdown",
   "metadata": {},
   "source": [
    "---\n",
    "---\n",
    ">>> ## Working with JSON\n",
    "> File located at | https://github.com/Cameron-Cn/AdvDataCourse-2019/blob/master/exercise8_json-files.ipynb\n",
    "\n",
    "---"
   ]
  },
  {
   "cell_type": "markdown",
   "metadata": {},
   "source": [
    "# &#9873;"
   ]
  },
  {
   "cell_type": "code",
   "execution_count": null,
   "metadata": {},
   "outputs": [],
   "source": []
  }
 ],
 "metadata": {
  "kernelspec": {
   "display_name": "Python 3",
   "language": "python",
   "name": "python3"
  },
  "language_info": {
   "codemirror_mode": {
    "name": "ipython",
    "version": 3
   },
   "file_extension": ".py",
   "mimetype": "text/x-python",
   "name": "python",
   "nbconvert_exporter": "python",
   "pygments_lexer": "ipython3",
   "version": "3.7.3"
  }
 },
 "nbformat": 4,
 "nbformat_minor": 2
}
