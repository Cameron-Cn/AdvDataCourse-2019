{
 "cells": [
  {
   "cell_type": "markdown",
   "metadata": {},
   "source": [
    "# Exercise 5: Build a Dictionary\n",
    "#### 2019 June 05\n",
    "`Cameron.Cn`"
   ]
  },
  {
   "cell_type": "markdown",
   "metadata": {},
   "source": [
    ">So, let's use the dictionary in a program.\n",
    "Create a program that will prompt the user to enter an amount. When the user enters the amount, the program will respond with the text spelling out of the amount. For example, the user enters '10', the program responds with 'ten'.\n",
    "If the user enters an amount that the program does not have stored then the program shall prompt the user to enter the text. So if the user enters '201' and the program doesn't know that value then the program will prompt the user to type in the text, 'two-hundred one'.\n",
    "Once the user types in the text, the program shall store the text in a dictionary. This will enable the program to quickly locate the value the next time the user enters it.\n",
    "\n",
    "_Expected Output:_\n",
    "```\n",
    "Enter a number or press (q) to quit: 10\n",
    "Enter the value or press (q) to quit: Ten\n",
    "Enter a number or press (q) to quit: 10\n",
    "You have entered Ten\n",
    "Enter a number or press (q) to quit: 20\n",
    "Enter the value or press (q) to quit: Twenty\n",
    "Enter a number or press (q) to quit: 40\n",
    "Enter the value or press (q) to quit: Forty\n",
    "Enter a number or press (q) to quit: q\n",
    "\n",
    "Here are the values you have entered:\n",
    "10 Ten\n",
    "20 Twenty\n",
    "40 Forty\n",
    "```\n",
    "---"
   ]
  },
  {
   "cell_type": "markdown",
   "metadata": {},
   "source": [
    "### Thought Process\n",
    "1. Create dictionary [0:100:10] \n",
    "2. Prompt for User input (key and/or values) | this will be a `while` loop\n",
    "3. Check dictionary for term (does it exist?)\n",
    "4. Reply with request for definition, or print(term)\n",
    "5. Exit on (q)\n",
    "\n",
    "```\n",
    "Website consulted:\n",
    "https://www.digitalocean.com/community/tutorials/understanding-dictionaries-in-python-3\n",
    "```"
   ]
  },
  {
   "cell_type": "markdown",
   "metadata": {},
   "source": [
    "---"
   ]
  },
  {
   "cell_type": "code",
   "execution_count": 1,
   "metadata": {
    "scrolled": true
   },
   "outputs": [
    {
     "data": {
      "text/plain": [
       "{'0': 'Zero',\n",
       " '10': 'Ten',\n",
       " '20': 'Twenty',\n",
       " '30': 'Thirty',\n",
       " '40': 'Forty',\n",
       " '50': 'Fifty',\n",
       " '60': 'Sixty',\n",
       " '70': 'Seventy',\n",
       " '80': 'Eighty',\n",
       " '90': 'Ninety',\n",
       " '100': 'One Hundred'}"
      ]
     },
     "execution_count": 1,
     "metadata": {},
     "output_type": "execute_result"
    }
   ],
   "source": [
    "# Making the dictionary for 10 - 100 by 10s\n",
    "# {'key', 'value'}\n",
    "dict = {'0':'Zero','10':'Ten','20':'Twenty','30':'Thirty','40':'Forty','50':'Fifty',\\\n",
    "          '60':'Sixty','70':'Seventy','80':'Eighty','90':'Ninety','100':'One Hundred'}\n",
    "dict"
   ]
  },
  {
   "cell_type": "code",
   "execution_count": 2,
   "metadata": {
    "scrolled": true
   },
   "outputs": [],
   "source": [
    "# Turning the dictionary into a list for easy sorting and management\n",
    "# theKeys = list(amounts.keys()) theKeys.sort() for key in theKeys: print(key,amounts[key])"
   ]
  },
  {
   "cell_type": "code",
   "execution_count": 3,
   "metadata": {
    "scrolled": true
   },
   "outputs": [
    {
     "name": "stdout",
     "output_type": "stream",
     "text": [
      "Ten\n",
      "Ninety\n"
     ]
    }
   ],
   "source": [
    "# Checking for dictionary matching\n",
    "print(dict['10'])\n",
    "print(dict['90'])\n"
   ]
  },
  {
   "cell_type": "code",
   "execution_count": 4,
   "metadata": {
    "scrolled": true
   },
   "outputs": [
    {
     "name": "stdout",
     "output_type": "stream",
     "text": [
      "Enter a number or press (q) to quit: 432234\n",
      "Enter a number or press (q) to quit: 3\n",
      "Enter a number or press (q) to quit: 50\n",
      "Enter a number or press (q) to quit: 10\n",
      "Enter a number or press (q) to quit: q\n"
     ]
    }
   ],
   "source": [
    "# Dictionary Test No.1\n",
    "# This didn't work! Aiyou!\n",
    "\n",
    "while True:\n",
    "    i = str(input(\"Enter a number or press (q) to quit: \"))\n",
    "    if i == 'q':\n",
    "        break\n",
    "    \n",
    "    if i == '{}':\n",
    "        str(input(\"Enter a number or press (q) to quit: \"))\n",
    "        print(dict['{}'])\n",
    "    \n",
    "    if i == 'w':\n",
    "        str(input(\"Enter the value or press (q) to quit: \"))\n",
    "        print(dict['{}'])   \n"
   ]
  },
  {
   "cell_type": "code",
   "execution_count": 5,
   "metadata": {
    "scrolled": false
   },
   "outputs": [
    {
     "name": "stdout",
     "output_type": "stream",
     "text": [
      "\n",
      "Welcome to The Dictionary! Enter a number to begin. (q) exits this program: \n",
      "10\n",
      "10 is in The Dictionary as Ten\n",
      "\n",
      "Welcome to The Dictionary! Enter a number to begin. (q) exits this program: \n",
      "20\n",
      "20 is in The Dictionary as Twenty\n",
      "\n",
      "Welcome to The Dictionary! Enter a number to begin. (q) exits this program: \n",
      "100\n",
      "100 is in The Dictionary as One Hundred\n",
      "\n",
      "Welcome to The Dictionary! Enter a number to begin. (q) exits this program: \n",
      "42\n",
      "I don't have 42 defined in my memory bank. What is it, please?\n",
      "Forty Two\n",
      "\n",
      "Data Updated. 42 as Forty Two has been added to The Dictionary. Thank you kindly.\n",
      "\n",
      "Welcome to The Dictionary! Enter a number to begin. (q) exits this program: \n",
      "80\n",
      "80 is in The Dictionary as Eighty\n",
      "\n",
      "Welcome to The Dictionary! Enter a number to begin. (q) exits this program: \n",
      "99\n",
      "I don't have 99 defined in my memory bank. What is it, please?\n",
      "Ninety Nine\n",
      "\n",
      "Data Updated. 99 as Ninety Nine has been added to The Dictionary. Thank you kindly.\n",
      "\n",
      "Welcome to The Dictionary! Enter a number to begin. (q) exits this program: \n",
      "q\n"
     ]
    }
   ],
   "source": [
    "# Dictionary Test No.2\n",
    "\n",
    "\n",
    "while True:\n",
    "   \n",
    "    print(\"\\nWelcome to The Dictionary! Enter a number to begin. (q) exits this program: \")\n",
    "    number = input()\n",
    "    if number == 'q':\n",
    "        break \n",
    "\n",
    "    if number in dict:\n",
    "        print(number + \" is in The Dictionary as \" + dict[number])\n",
    "\n",
    "    else:\n",
    "        print(\"I don\\'t have \" + number + \" defined in my memory bank. What is it, please?\")\n",
    "        newnumber = input()\n",
    "        dict[number] = newnumber\n",
    "        print(\"\\nData Updated. \" + number + \" as \" + dict[number] + \" has been added to The Dictionary. Thank you kindly.\")\n",
    "   \n",
    "   \n",
    "    "
   ]
  },
  {
   "cell_type": "code",
   "execution_count": 6,
   "metadata": {
    "scrolled": true
   },
   "outputs": [
    {
     "data": {
      "text/plain": [
       "{'0': 'Zero',\n",
       " '10': 'Ten',\n",
       " '20': 'Twenty',\n",
       " '30': 'Thirty',\n",
       " '40': 'Forty',\n",
       " '50': 'Fifty',\n",
       " '60': 'Sixty',\n",
       " '70': 'Seventy',\n",
       " '80': 'Eighty',\n",
       " '90': 'Ninety',\n",
       " '100': 'One Hundred',\n",
       " '42': 'Forty Two',\n",
       " '99': 'Ninety Nine'}"
      ]
     },
     "execution_count": 6,
     "metadata": {},
     "output_type": "execute_result"
    }
   ],
   "source": [
    "# Dictionary Keys\n",
    "dict"
   ]
  },
  {
   "cell_type": "code",
   "execution_count": null,
   "metadata": {
    "scrolled": true
   },
   "outputs": [],
   "source": []
  },
  {
   "cell_type": "code",
   "execution_count": null,
   "metadata": {
    "scrolled": true
   },
   "outputs": [],
   "source": []
  }
 ],
 "metadata": {
  "kernelspec": {
   "display_name": "Python 3",
   "language": "python",
   "name": "python3"
  },
  "language_info": {
   "codemirror_mode": {
    "name": "ipython",
    "version": 3
   },
   "file_extension": ".py",
   "mimetype": "text/x-python",
   "name": "python",
   "nbconvert_exporter": "python",
   "pygments_lexer": "ipython3",
   "version": "3.7.3"
  }
 },
 "nbformat": 4,
 "nbformat_minor": 2
}
