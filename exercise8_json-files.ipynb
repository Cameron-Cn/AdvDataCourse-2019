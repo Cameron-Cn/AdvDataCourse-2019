{
 "cells": [
  {
   "cell_type": "markdown",
   "metadata": {},
   "source": [
    "# Montgomery County Traffic Violations\n",
    "`Cameron.Cn`\n",
    "#### 2019 June 19\n",
    "\n",
    "JSoN stands for JavaScript Object Notation (although it is not JavaScript!), and is a data format similar to Python dictionaries."
   ]
  },
  {
   "cell_type": "code",
   "execution_count": 44,
   "metadata": {},
   "outputs": [],
   "source": [
    "import json"
   ]
  },
  {
   "cell_type": "code",
   "execution_count": 46,
   "metadata": {},
   "outputs": [],
   "source": [
    "mocofile = \"MoCoViolations_2018.json\" # The name of our file here"
   ]
  },
  {
   "cell_type": "code",
   "execution_count": 57,
   "metadata": {},
   "outputs": [],
   "source": [
    "viol = []\n",
    "\n",
    "with open(mocofile) as file2:\n",
    "    for line2 in file2:\n",
    "        viol.append(json.loads(line2))"
   ]
  },
  {
   "cell_type": "code",
   "execution_count": 58,
   "metadata": {},
   "outputs": [
    {
     "data": {
      "text/plain": [
       "list"
      ]
     },
     "execution_count": 58,
     "metadata": {},
     "output_type": "execute_result"
    }
   ],
   "source": [
    "type(viol)"
   ]
  },
  {
   "cell_type": "code",
   "execution_count": 59,
   "metadata": {},
   "outputs": [
    {
     "data": {
      "text/plain": [
       "1"
      ]
     },
     "execution_count": 59,
     "metadata": {},
     "output_type": "execute_result"
    }
   ],
   "source": [
    "len(viol) # only one (looooooooong) line"
   ]
  },
  {
   "cell_type": "code",
   "execution_count": 63,
   "metadata": {},
   "outputs": [
    {
     "data": {
      "text/plain": [
       "dict"
      ]
     },
     "execution_count": 63,
     "metadata": {},
     "output_type": "execute_result"
    }
   ],
   "source": [
    "type(viol[0]) # what is the function?"
   ]
  },
  {
   "cell_type": "code",
   "execution_count": 66,
   "metadata": {},
   "outputs": [
    {
     "data": {
      "text/plain": [
       "dict_keys(['meta', 'data'])"
      ]
     },
     "execution_count": 66,
     "metadata": {},
     "output_type": "execute_result"
    }
   ],
   "source": [
    "viol[0].keys()"
   ]
  },
  {
   "cell_type": "code",
   "execution_count": 70,
   "metadata": {},
   "outputs": [
    {
     "data": {
      "text/plain": [
       "list"
      ]
     },
     "execution_count": 70,
     "metadata": {},
     "output_type": "execute_result"
    }
   ],
   "source": [
    "type(viol[0]['data']) # a list information on stop, within a dictionary that is within a list!"
   ]
  },
  {
   "cell_type": "code",
   "execution_count": 82,
   "metadata": {},
   "outputs": [
    {
     "data": {
      "text/plain": [
       "['row-tb2z_it96-ased',\n",
       " '00000000-0000-0000-D6FB-B97187EB8E43',\n",
       " 0,\n",
       " 1554316021,\n",
       " None,\n",
       " 1554317159,\n",
       " None,\n",
       " '{ }',\n",
       " 'dcf9f7e6-9001-4ac9-b657-94a3cd8b29b8',\n",
       " '2018-12-31T00:00:00',\n",
       " '23:56:00',\n",
       " 'MCP',\n",
       " '1st District, Rockville',\n",
       " 'FAILURE OF VEH. ON HWY. TO DISPLAY LIGHTED LAMPS, ILLUMINATING DEVICE IN UNFAVORABLE VISIBILITY COND',\n",
       " '355 @ FIRST ST',\n",
       " '39.07792',\n",
       " '-77.1404116666667',\n",
       " 'No',\n",
       " 'No',\n",
       " 'No',\n",
       " 'No',\n",
       " 'No',\n",
       " 'Yes',\n",
       " 'No',\n",
       " 'No',\n",
       " 'No',\n",
       " 'No',\n",
       " 'MD',\n",
       " '02 - Automobile',\n",
       " '2007',\n",
       " 'TOYOTA',\n",
       " 'COROLLA',\n",
       " 'BLUE',\n",
       " 'Warning',\n",
       " '22-201.1',\n",
       " 'Transportation Article',\n",
       " 'false',\n",
       " 'BLACK',\n",
       " 'M',\n",
       " 'GERMANTOWN',\n",
       " 'MD',\n",
       " 'MD',\n",
       " 'A - Marked Patrol',\n",
       " [None, '39.07792', '-77.140411666667', None, False, None],\n",
       " '3',\n",
       " '3',\n",
       " '25',\n",
       " '60',\n",
       " '12']"
      ]
     },
     "execution_count": 82,
     "metadata": {},
     "output_type": "execute_result"
    }
   ],
   "source": [
    "viol[0]['data'][0]"
   ]
  },
  {
   "cell_type": "code",
   "execution_count": 291,
   "metadata": {},
   "outputs": [],
   "source": [
    "line = viol[0]['data'] # this is our list of violations"
   ]
  },
  {
   "cell_type": "code",
   "execution_count": 292,
   "metadata": {},
   "outputs": [
    {
     "data": {
      "text/plain": [
       "'2018-12-31T00:00:00'"
      ]
     },
     "execution_count": 292,
     "metadata": {},
     "output_type": "execute_result"
    }
   ],
   "source": [
    "line[0][9] # the 0th entry in the dictionary, the 9th line from that 0th entry"
   ]
  },
  {
   "cell_type": "code",
   "execution_count": 293,
   "metadata": {},
   "outputs": [
    {
     "data": {
      "text/plain": [
       "'2018-12-31T00:00:00'"
      ]
     },
     "execution_count": 293,
     "metadata": {},
     "output_type": "execute_result"
    }
   ],
   "source": [
    "test = line[0][9]\n",
    "test"
   ]
  },
  {
   "cell_type": "code",
   "execution_count": 294,
   "metadata": {},
   "outputs": [],
   "source": [
    "# making our variables for later!\n",
    "\n",
    "Dstop = [] # adding date of stop\n",
    "Tstop = [] # time of stop\n",
    "townLoc = [] # the town, all MoCo, MD, USA\n",
    "gend = [] # gender (M/F) of driver\n",
    "ethn = [] # ethnicity of driver\n",
    "enfAct = [] # action taken (i.e. Warning, arrest, etc)\n",
    "carCol = [] # vehicle color\n",
    "carCorp = [] # vehicle manufacturer\n",
    "carMod = [] # vehicle model\n",
    "carAge = [] # model year\n",
    "carTyp = [] # vehicle type (i.e. car, motorcycle, etc)\n",
    "logLati = [] # latitude\n",
    "logLong = [] # longitude\n",
    "reason = []"
   ]
  },
  {
   "cell_type": "code",
   "execution_count": 295,
   "metadata": {},
   "outputs": [],
   "source": [
    "# making the dataframe keys for later...ugh\n",
    "for entry in line:\n",
    "    Dstop.append(entry[9]) # adding date of stop\n",
    "    Tstop.append(entry[10]) # time of stop\n",
    "    townLoc.append(entry[39]) # the town, all MoCo, MD, USA\n",
    "    gend.append(entry[38]) # gender (M/F) of driver\n",
    "    ethn.append(entry[37]) # ethnicity of driver\n",
    "    enfAct.append(entry[33]) # action taken (i.e. Warning, arrest, etc)\n",
    "    carCol.append(entry[32]) # vehicle color\n",
    "    carCorp.append(entry[30]) # vehicle manufacturer\n",
    "    carMod.append(entry[31]) # vehicle model\n",
    "    carAge.append(entry[29]) # model year\n",
    "    carTyp.append(entry[28]) # vehicle type (i.e. car, motorcycle, etc)\n",
    "    logLati.append(entry[15]) # latitude\n",
    "    logLong.append(entry[16]) # longitude\n",
    "    reason.append(entry[13]) # why vehicle was stopped\n",
    "#    \n",
    "#    "
   ]
  },
  {
   "cell_type": "markdown",
   "metadata": {},
   "source": [
    ">> We had SO many issues with this. We kept pointing our .append(ABC[x]) to the wrong variable!\n",
    "> And eventually, we realized it HAD been working, but we thought it was broken because all of the dates looked the same. We didn't think about the fact that there were thousands of entries per day, and so scrolling through they looked the same."
   ]
  },
  {
   "cell_type": "code",
   "execution_count": 296,
   "metadata": {},
   "outputs": [],
   "source": [
    "VioList = list(zip(Dstop, Tstop, townLoc, gend, ethn, enfAct, carCol, carCorp, carMod, carAge, carTyp, logLati, logLong, reason))\n",
    "titles = ['Date','Time','Town','Driver_Gender','Driver_Ethnicity','Officer_Action','Car_Color',\\\n",
    "          'Car_Mnfctr','Car_Model','Car_Year','Vehicle_Type','Latitude','Longitude','Stop_Reason']"
   ]
  },
  {
   "cell_type": "code",
   "execution_count": 297,
   "metadata": {},
   "outputs": [],
   "source": [
    "mctViols = pd.DataFrame(VioList,columns=titles)"
   ]
  },
  {
   "cell_type": "code",
   "execution_count": 298,
   "metadata": {},
   "outputs": [
    {
     "data": {
      "text/html": [
       "<div>\n",
       "<style scoped>\n",
       "    .dataframe tbody tr th:only-of-type {\n",
       "        vertical-align: middle;\n",
       "    }\n",
       "\n",
       "    .dataframe tbody tr th {\n",
       "        vertical-align: top;\n",
       "    }\n",
       "\n",
       "    .dataframe thead th {\n",
       "        text-align: right;\n",
       "    }\n",
       "</style>\n",
       "<table border=\"1\" class=\"dataframe\">\n",
       "  <thead>\n",
       "    <tr style=\"text-align: right;\">\n",
       "      <th></th>\n",
       "      <th>Date</th>\n",
       "      <th>Time</th>\n",
       "      <th>Town</th>\n",
       "      <th>Driver_Gender</th>\n",
       "      <th>Driver_Ethnicity</th>\n",
       "      <th>Officer_Action</th>\n",
       "      <th>Car_Color</th>\n",
       "      <th>Car_Mnfctr</th>\n",
       "      <th>Car_Model</th>\n",
       "      <th>Car_Year</th>\n",
       "      <th>Vehicle_Type</th>\n",
       "      <th>Latitude</th>\n",
       "      <th>Longitude</th>\n",
       "      <th>Stop_Reason</th>\n",
       "    </tr>\n",
       "  </thead>\n",
       "  <tbody>\n",
       "    <tr>\n",
       "      <th>0</th>\n",
       "      <td>2018-12-31T00:00:00</td>\n",
       "      <td>23:56:00</td>\n",
       "      <td>GERMANTOWN</td>\n",
       "      <td>M</td>\n",
       "      <td>BLACK</td>\n",
       "      <td>Warning</td>\n",
       "      <td>BLUE</td>\n",
       "      <td>TOYOTA</td>\n",
       "      <td>COROLLA</td>\n",
       "      <td>2007</td>\n",
       "      <td>02 - Automobile</td>\n",
       "      <td>39.07792</td>\n",
       "      <td>-77.1404116666667</td>\n",
       "      <td>FAILURE OF VEH. ON HWY. TO DISPLAY LIGHTED LAM...</td>\n",
       "    </tr>\n",
       "    <tr>\n",
       "      <th>1</th>\n",
       "      <td>2018-12-31T00:00:00</td>\n",
       "      <td>23:52:00</td>\n",
       "      <td>GERMANTOWN</td>\n",
       "      <td>M</td>\n",
       "      <td>HISPANIC</td>\n",
       "      <td>Warning</td>\n",
       "      <td>GRAY</td>\n",
       "      <td>LEXUS</td>\n",
       "      <td>4S</td>\n",
       "      <td>2006</td>\n",
       "      <td>02 - Automobile</td>\n",
       "      <td>39.1486766666667</td>\n",
       "      <td>-77.2063433333333</td>\n",
       "      <td>FAILURE TO DISPLAY TWO LIGHTED FRONT LAMPS WHE...</td>\n",
       "    </tr>\n",
       "    <tr>\n",
       "      <th>2</th>\n",
       "      <td>2018-12-31T00:00:00</td>\n",
       "      <td>23:52:00</td>\n",
       "      <td>GERMANTOWN</td>\n",
       "      <td>M</td>\n",
       "      <td>HISPANIC</td>\n",
       "      <td>Warning</td>\n",
       "      <td>GRAY</td>\n",
       "      <td>LEXUS</td>\n",
       "      <td>4S</td>\n",
       "      <td>2006</td>\n",
       "      <td>02 - Automobile</td>\n",
       "      <td>39.1486766666667</td>\n",
       "      <td>-77.2063433333333</td>\n",
       "      <td>FAILURE OF VEH. ON HWY. TO DISPLAY LIGHTED LAM...</td>\n",
       "    </tr>\n",
       "    <tr>\n",
       "      <th>3</th>\n",
       "      <td>2018-12-31T00:00:00</td>\n",
       "      <td>23:45:00</td>\n",
       "      <td>SILVER SPRING</td>\n",
       "      <td>F</td>\n",
       "      <td>WHITE</td>\n",
       "      <td>Warning</td>\n",
       "      <td>GRAY</td>\n",
       "      <td>TOYOTA</td>\n",
       "      <td>COROLLA</td>\n",
       "      <td>2017</td>\n",
       "      <td>02 - Automobile</td>\n",
       "      <td>39.08545</td>\n",
       "      <td>-77.1451033333333</td>\n",
       "      <td>FAILURE OF VEH. ON HWY. TO DISPLAY LIGHTED LAM...</td>\n",
       "    </tr>\n",
       "    <tr>\n",
       "      <th>4</th>\n",
       "      <td>2018-12-31T00:00:00</td>\n",
       "      <td>23:44:00</td>\n",
       "      <td>WOODBRIDGE</td>\n",
       "      <td>M</td>\n",
       "      <td>BLACK</td>\n",
       "      <td>Warning</td>\n",
       "      <td>BLACK</td>\n",
       "      <td>CHEVROLET</td>\n",
       "      <td>IMPALA</td>\n",
       "      <td>2016</td>\n",
       "      <td>02 - Automobile</td>\n",
       "      <td>38.997515</td>\n",
       "      <td>-77.0267766666667</td>\n",
       "      <td>FAILURE TO DRIVE VEHICLE ON RIGHT HALF OF ROAD...</td>\n",
       "    </tr>\n",
       "    <tr>\n",
       "      <th>5</th>\n",
       "      <td>2018-12-31T00:00:00</td>\n",
       "      <td>23:44:00</td>\n",
       "      <td>WOODBRIDGE</td>\n",
       "      <td>M</td>\n",
       "      <td>BLACK</td>\n",
       "      <td>Warning</td>\n",
       "      <td>BLACK</td>\n",
       "      <td>CHEVROLET</td>\n",
       "      <td>IMPALA</td>\n",
       "      <td>2016</td>\n",
       "      <td>02 - Automobile</td>\n",
       "      <td>38.997515</td>\n",
       "      <td>-77.0267766666667</td>\n",
       "      <td>FAILURE TO DISPLAY TWO LIGHTED FRONT LAMPS WHE...</td>\n",
       "    </tr>\n",
       "    <tr>\n",
       "      <th>6</th>\n",
       "      <td>2018-12-31T00:00:00</td>\n",
       "      <td>23:44:00</td>\n",
       "      <td>GAITHERSBURG</td>\n",
       "      <td>F</td>\n",
       "      <td>WHITE</td>\n",
       "      <td>Warning</td>\n",
       "      <td>BLACK</td>\n",
       "      <td>TOYOTA</td>\n",
       "      <td>CAMRY</td>\n",
       "      <td>2016</td>\n",
       "      <td>02 - Automobile</td>\n",
       "      <td>39.1609566666667</td>\n",
       "      <td>-77.2220566666667</td>\n",
       "      <td>FAILURE OF INDIVIDUAL DRIVING ON HIGHWAY TO DI...</td>\n",
       "    </tr>\n",
       "    <tr>\n",
       "      <th>7</th>\n",
       "      <td>2018-12-31T00:00:00</td>\n",
       "      <td>23:44:00</td>\n",
       "      <td>WOODBRIDGE</td>\n",
       "      <td>M</td>\n",
       "      <td>BLACK</td>\n",
       "      <td>Warning</td>\n",
       "      <td>BLACK</td>\n",
       "      <td>CHEVROLET</td>\n",
       "      <td>IMPALA</td>\n",
       "      <td>2016</td>\n",
       "      <td>02 - Automobile</td>\n",
       "      <td>38.997515</td>\n",
       "      <td>-77.0267766666667</td>\n",
       "      <td>FAILURE OF VEH. ON HWY. TO DISPLAY LIGHTED LAM...</td>\n",
       "    </tr>\n",
       "    <tr>\n",
       "      <th>8</th>\n",
       "      <td>2018-12-31T00:00:00</td>\n",
       "      <td>23:44:00</td>\n",
       "      <td>GAITHERSBURG</td>\n",
       "      <td>F</td>\n",
       "      <td>WHITE</td>\n",
       "      <td>Warning</td>\n",
       "      <td>BLACK</td>\n",
       "      <td>TOYOTA</td>\n",
       "      <td>CAMRY</td>\n",
       "      <td>2016</td>\n",
       "      <td>02 - Automobile</td>\n",
       "      <td>39.1609566666667</td>\n",
       "      <td>-77.2220566666667</td>\n",
       "      <td>FAILURE OF DR. TO MAKE LANE CH. TO AVAIL. LANE...</td>\n",
       "    </tr>\n",
       "    <tr>\n",
       "      <th>9</th>\n",
       "      <td>2018-12-31T00:00:00</td>\n",
       "      <td>23:41:00</td>\n",
       "      <td>KENSINGTON</td>\n",
       "      <td>F</td>\n",
       "      <td>WHITE</td>\n",
       "      <td>Warning</td>\n",
       "      <td>GRAY</td>\n",
       "      <td>ACURA</td>\n",
       "      <td>4S</td>\n",
       "      <td>2003</td>\n",
       "      <td>02 - Automobile</td>\n",
       "      <td>39.0544283333333</td>\n",
       "      <td>-77.1392983333333</td>\n",
       "      <td>DRIVING VEH. W/O ADEQUATE REAR REG. PLATE ILLU...</td>\n",
       "    </tr>\n",
       "    <tr>\n",
       "      <th>10</th>\n",
       "      <td>2018-12-31T00:00:00</td>\n",
       "      <td>23:41:00</td>\n",
       "      <td>KENSINGTON</td>\n",
       "      <td>F</td>\n",
       "      <td>WHITE</td>\n",
       "      <td>Warning</td>\n",
       "      <td>GRAY</td>\n",
       "      <td>ACURA</td>\n",
       "      <td>4S</td>\n",
       "      <td>2003</td>\n",
       "      <td>02 - Automobile</td>\n",
       "      <td>39.0544283333333</td>\n",
       "      <td>-77.1392983333333</td>\n",
       "      <td>FAILURE TO DISPLAY REGISTRATION CARD UPON DEMA...</td>\n",
       "    </tr>\n",
       "    <tr>\n",
       "      <th>11</th>\n",
       "      <td>2018-12-31T00:00:00</td>\n",
       "      <td>23:40:00</td>\n",
       "      <td>ROCKVILLE</td>\n",
       "      <td>M</td>\n",
       "      <td>ASIAN</td>\n",
       "      <td>Citation</td>\n",
       "      <td>BLACK</td>\n",
       "      <td>BMW</td>\n",
       "      <td>X4</td>\n",
       "      <td>2018</td>\n",
       "      <td>02 - Automobile</td>\n",
       "      <td>38.99762</td>\n",
       "      <td>-77.109625</td>\n",
       "      <td>DRIVING VEHICLE WHILE UNDER THE INFLUENCE OF A...</td>\n",
       "    </tr>\n",
       "    <tr>\n",
       "      <th>12</th>\n",
       "      <td>2018-12-31T00:00:00</td>\n",
       "      <td>23:40:00</td>\n",
       "      <td>SILVER SPRING</td>\n",
       "      <td>M</td>\n",
       "      <td>BLACK</td>\n",
       "      <td>Warning</td>\n",
       "      <td>GRAY</td>\n",
       "      <td>JEEP</td>\n",
       "      <td>WRANGLER</td>\n",
       "      <td>2015</td>\n",
       "      <td>02 - Automobile</td>\n",
       "      <td>39.047015</td>\n",
       "      <td>-76.98755</td>\n",
       "      <td>FAILURE TO EQUIP VEH. WITH REQUIRED REAR STOP ...</td>\n",
       "    </tr>\n",
       "    <tr>\n",
       "      <th>13</th>\n",
       "      <td>2018-12-31T00:00:00</td>\n",
       "      <td>23:40:00</td>\n",
       "      <td>ROCKVILLE</td>\n",
       "      <td>M</td>\n",
       "      <td>ASIAN</td>\n",
       "      <td>Citation</td>\n",
       "      <td>BLACK</td>\n",
       "      <td>BMW</td>\n",
       "      <td>X4</td>\n",
       "      <td>2018</td>\n",
       "      <td>02 - Automobile</td>\n",
       "      <td>38.99762</td>\n",
       "      <td>-77.109625</td>\n",
       "      <td>RECKLESS DRIVING VEHICLE IN WANTON AND WILLFUL...</td>\n",
       "    </tr>\n",
       "    <tr>\n",
       "      <th>14</th>\n",
       "      <td>2018-12-31T00:00:00</td>\n",
       "      <td>23:40:00</td>\n",
       "      <td>ROCKVILLE</td>\n",
       "      <td>M</td>\n",
       "      <td>ASIAN</td>\n",
       "      <td>Citation</td>\n",
       "      <td>BLACK</td>\n",
       "      <td>BMW</td>\n",
       "      <td>X4</td>\n",
       "      <td>2018</td>\n",
       "      <td>02 - Automobile</td>\n",
       "      <td>38.99762</td>\n",
       "      <td>-77.109625</td>\n",
       "      <td>DRIVING VEHICLE WHILE UNDER THE INFLUENCE OF A...</td>\n",
       "    </tr>\n",
       "  </tbody>\n",
       "</table>\n",
       "</div>"
      ],
      "text/plain": [
       "                   Date      Time           Town Driver_Gender  \\\n",
       "0   2018-12-31T00:00:00  23:56:00     GERMANTOWN             M   \n",
       "1   2018-12-31T00:00:00  23:52:00     GERMANTOWN             M   \n",
       "2   2018-12-31T00:00:00  23:52:00     GERMANTOWN             M   \n",
       "3   2018-12-31T00:00:00  23:45:00  SILVER SPRING             F   \n",
       "4   2018-12-31T00:00:00  23:44:00     WOODBRIDGE             M   \n",
       "5   2018-12-31T00:00:00  23:44:00     WOODBRIDGE             M   \n",
       "6   2018-12-31T00:00:00  23:44:00   GAITHERSBURG             F   \n",
       "7   2018-12-31T00:00:00  23:44:00     WOODBRIDGE             M   \n",
       "8   2018-12-31T00:00:00  23:44:00   GAITHERSBURG             F   \n",
       "9   2018-12-31T00:00:00  23:41:00     KENSINGTON             F   \n",
       "10  2018-12-31T00:00:00  23:41:00     KENSINGTON             F   \n",
       "11  2018-12-31T00:00:00  23:40:00      ROCKVILLE             M   \n",
       "12  2018-12-31T00:00:00  23:40:00  SILVER SPRING             M   \n",
       "13  2018-12-31T00:00:00  23:40:00      ROCKVILLE             M   \n",
       "14  2018-12-31T00:00:00  23:40:00      ROCKVILLE             M   \n",
       "\n",
       "   Driver_Ethnicity Officer_Action Car_Color Car_Mnfctr Car_Model Car_Year  \\\n",
       "0             BLACK        Warning      BLUE     TOYOTA   COROLLA     2007   \n",
       "1          HISPANIC        Warning      GRAY      LEXUS        4S     2006   \n",
       "2          HISPANIC        Warning      GRAY      LEXUS        4S     2006   \n",
       "3             WHITE        Warning      GRAY     TOYOTA   COROLLA     2017   \n",
       "4             BLACK        Warning     BLACK  CHEVROLET    IMPALA     2016   \n",
       "5             BLACK        Warning     BLACK  CHEVROLET    IMPALA     2016   \n",
       "6             WHITE        Warning     BLACK     TOYOTA     CAMRY     2016   \n",
       "7             BLACK        Warning     BLACK  CHEVROLET    IMPALA     2016   \n",
       "8             WHITE        Warning     BLACK     TOYOTA     CAMRY     2016   \n",
       "9             WHITE        Warning      GRAY      ACURA        4S     2003   \n",
       "10            WHITE        Warning      GRAY      ACURA        4S     2003   \n",
       "11            ASIAN       Citation     BLACK        BMW        X4     2018   \n",
       "12            BLACK        Warning      GRAY       JEEP  WRANGLER     2015   \n",
       "13            ASIAN       Citation     BLACK        BMW        X4     2018   \n",
       "14            ASIAN       Citation     BLACK        BMW        X4     2018   \n",
       "\n",
       "       Vehicle_Type          Latitude          Longitude  \\\n",
       "0   02 - Automobile          39.07792  -77.1404116666667   \n",
       "1   02 - Automobile  39.1486766666667  -77.2063433333333   \n",
       "2   02 - Automobile  39.1486766666667  -77.2063433333333   \n",
       "3   02 - Automobile          39.08545  -77.1451033333333   \n",
       "4   02 - Automobile         38.997515  -77.0267766666667   \n",
       "5   02 - Automobile         38.997515  -77.0267766666667   \n",
       "6   02 - Automobile  39.1609566666667  -77.2220566666667   \n",
       "7   02 - Automobile         38.997515  -77.0267766666667   \n",
       "8   02 - Automobile  39.1609566666667  -77.2220566666667   \n",
       "9   02 - Automobile  39.0544283333333  -77.1392983333333   \n",
       "10  02 - Automobile  39.0544283333333  -77.1392983333333   \n",
       "11  02 - Automobile          38.99762         -77.109625   \n",
       "12  02 - Automobile         39.047015          -76.98755   \n",
       "13  02 - Automobile          38.99762         -77.109625   \n",
       "14  02 - Automobile          38.99762         -77.109625   \n",
       "\n",
       "                                          Stop_Reason  \n",
       "0   FAILURE OF VEH. ON HWY. TO DISPLAY LIGHTED LAM...  \n",
       "1   FAILURE TO DISPLAY TWO LIGHTED FRONT LAMPS WHE...  \n",
       "2   FAILURE OF VEH. ON HWY. TO DISPLAY LIGHTED LAM...  \n",
       "3   FAILURE OF VEH. ON HWY. TO DISPLAY LIGHTED LAM...  \n",
       "4   FAILURE TO DRIVE VEHICLE ON RIGHT HALF OF ROAD...  \n",
       "5   FAILURE TO DISPLAY TWO LIGHTED FRONT LAMPS WHE...  \n",
       "6   FAILURE OF INDIVIDUAL DRIVING ON HIGHWAY TO DI...  \n",
       "7   FAILURE OF VEH. ON HWY. TO DISPLAY LIGHTED LAM...  \n",
       "8   FAILURE OF DR. TO MAKE LANE CH. TO AVAIL. LANE...  \n",
       "9   DRIVING VEH. W/O ADEQUATE REAR REG. PLATE ILLU...  \n",
       "10  FAILURE TO DISPLAY REGISTRATION CARD UPON DEMA...  \n",
       "11  DRIVING VEHICLE WHILE UNDER THE INFLUENCE OF A...  \n",
       "12  FAILURE TO EQUIP VEH. WITH REQUIRED REAR STOP ...  \n",
       "13  RECKLESS DRIVING VEHICLE IN WANTON AND WILLFUL...  \n",
       "14  DRIVING VEHICLE WHILE UNDER THE INFLUENCE OF A...  "
      ]
     },
     "execution_count": 298,
     "metadata": {},
     "output_type": "execute_result"
    }
   ],
   "source": [
    "mctViols.head(15)"
   ]
  },
  {
   "cell_type": "code",
   "execution_count": 299,
   "metadata": {},
   "outputs": [
    {
     "name": "stdout",
     "output_type": "stream",
     "text": [
      "218273 218273 218273 218273 218273 218273 218273 218273 218273 218273 218273 218273 218273 218273\n"
     ]
    }
   ],
   "source": [
    "print(\n",
    "    len(Dstop), # ! was different, all good now!\n",
    "    len(enfAct),\n",
    "    len(Tstop),\n",
    "    len(carMod), # !\n",
    "    len(carTyp),\n",
    "    len(townLoc),\n",
    "    len(gend),\n",
    "    len(ethn),\n",
    "    len(carCorp),\n",
    "    len(carCol),\n",
    "    len(carAge),\n",
    "    len(logLong),\n",
    "    len(logLati),\n",
    "    len(reason)\n",
    ")"
   ]
  },
  {
   "cell_type": "code",
   "execution_count": 300,
   "metadata": {},
   "outputs": [],
   "source": [
    "# let's check this in a CSV! Just in case... *gulp*\n",
    "# mctViols.to_csv(\"MoCoDriversSux.csv\", index=False, header=True) # comment out once done!"
   ]
  },
  {
   "cell_type": "code",
   "execution_count": null,
   "metadata": {},
   "outputs": [],
   "source": []
  },
  {
   "cell_type": "code",
   "execution_count": null,
   "metadata": {},
   "outputs": [],
   "source": []
  },
  {
   "cell_type": "code",
   "execution_count": null,
   "metadata": {},
   "outputs": [],
   "source": []
  }
 ],
 "metadata": {
  "kernelspec": {
   "display_name": "Python 3",
   "language": "python",
   "name": "python3"
  },
  "language_info": {
   "codemirror_mode": {
    "name": "ipython",
    "version": 3
   },
   "file_extension": ".py",
   "mimetype": "text/x-python",
   "name": "python",
   "nbconvert_exporter": "python",
   "pygments_lexer": "ipython3",
   "version": "3.7.3"
  }
 },
 "nbformat": 4,
 "nbformat_minor": 2
}
