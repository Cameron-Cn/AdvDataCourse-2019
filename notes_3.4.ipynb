{
 "cells": [
  {
   "cell_type": "markdown",
   "metadata": {},
   "source": [
    "# Notes Week 3 Day 4 {∞}\n",
    "### 2019 June 20\n",
    "`Cameron.Cn` | &#26607;&#26234;&#26126;"
   ]
  },
  {
   "cell_type": "markdown",
   "metadata": {},
   "source": [
    "---\n",
    "---\n",
    "## JSON Review\n",
    "\n",
    "---"
   ]
  },
  {
   "cell_type": "markdown",
   "metadata": {},
   "source": [
    "```py\n",
    "\n",
    "# Pseudocode\n",
    "              0      1       0     1       0       1\n",
    "Violations[['Honda', 2009]['Ford',2013],['Toyota',1996]]\n",
    "              Violation 0     Viol 1           Viol 2\n",
    "\n",
    "for Violations[index] in Violations:  # is what the for loop is doing (with a new variable in place of 'Violations[index]' \n",
    "violations[0 - ∞]\n",
    "\n",
    "vio = violations[index][0] # is the make of the car in the above example\n",
    "vio[0] is then the same thing as the above\n",
    " \n",
    "----------\n",
    "\n",
    "[['Honda'][0,1]  ...  ] # this would require a second for loop to get into the [0,1]\n",
    "\n",
    "for list1Item in largelist:\n",
    "    \n",
    "    for list2Item in list1Item:\n",
    "        list2Item[0]\n",
    "\n",
    "\n",
    "\n",
    "```"
   ]
  },
  {
   "cell_type": "code",
   "execution_count": null,
   "metadata": {},
   "outputs": [],
   "source": []
  },
  {
   "cell_type": "markdown",
   "metadata": {},
   "source": [
    "---\n",
    "---\n",
    "## Review of Linear Regression, Logistic Regression, and Decision Trees\n",
    "\n",
    "---"
   ]
  },
  {
   "cell_type": "code",
   "execution_count": null,
   "metadata": {},
   "outputs": [],
   "source": []
  },
  {
   "cell_type": "code",
   "execution_count": null,
   "metadata": {},
   "outputs": [],
   "source": []
  },
  {
   "cell_type": "code",
   "execution_count": null,
   "metadata": {},
   "outputs": [],
   "source": []
  },
  {
   "cell_type": "code",
   "execution_count": null,
   "metadata": {},
   "outputs": [],
   "source": []
  },
  {
   "cell_type": "code",
   "execution_count": null,
   "metadata": {},
   "outputs": [],
   "source": []
  },
  {
   "cell_type": "markdown",
   "metadata": {},
   "source": [
    "---\n",
    "---\n",
    "## APIs (Without Keys)\n",
    "\n",
    "---"
   ]
  },
  {
   "cell_type": "code",
   "execution_count": null,
   "metadata": {},
   "outputs": [],
   "source": []
  },
  {
   "cell_type": "code",
   "execution_count": null,
   "metadata": {},
   "outputs": [],
   "source": []
  }
 ],
 "metadata": {
  "kernelspec": {
   "display_name": "Python 3",
   "language": "python",
   "name": "python3"
  },
  "language_info": {
   "codemirror_mode": {
    "name": "ipython",
    "version": 3
   },
   "file_extension": ".py",
   "mimetype": "text/x-python",
   "name": "python",
   "nbconvert_exporter": "python",
   "pygments_lexer": "ipython3",
   "version": "3.7.3"
  }
 },
 "nbformat": 4,
 "nbformat_minor": 2
}
