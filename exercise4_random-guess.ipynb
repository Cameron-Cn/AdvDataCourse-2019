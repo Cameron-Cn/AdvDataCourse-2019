{
 "cells": [
  {
   "cell_type": "markdown",
   "metadata": {},
   "source": [
    "## Exercise 3: Guess A Random Number\n",
    "#### 2019 June 5\n",
    "`Cameron.Cn`"
   ]
  },
  {
   "cell_type": "markdown",
   "metadata": {},
   "source": [
    "> Create a program that prompts the user to correctly guess a random number (between a set range) and gives them 3 tries.\n",
    "\n",
    "> Using while loops and `import random` to get your program working.\n",
    "> Good luck!"
   ]
  },
  {
   "cell_type": "markdown",
   "metadata": {},
   "source": [
    ">\n",
    "```py\n",
    "#creating endless LOOP\n",
    "while True:\n",
    "    answer = input(\"Enter A Good Movie or pres 'q' to quit: \")\n",
    "    if answer.lower() == \"q\":\n",
    "        break\n",
    "    else:\n",
    "        print(answer + \"? So that's the kind of thing you like, eh? OK.\\n\")\n",
    "        \n",
    "#random numbers\n",
    "import random\n",
    "#select random and lower upper\n",
    "\n",
    "#allowing the user to set the boundaries\n",
    "#lower = input(\"Enter the Lower Boundary: \")   # maybe it will work later, abandoning for now\n",
    "#upper = input(\"Enter the High Boundary: \")\n",
    "\n",
    "\n",
    "lower = 0\n",
    "upper = 100\n",
    "\n",
    "#printing the integer\n",
    "rnd = random.randint(lower,upper)\n",
    "print(rnd)\n",
    "```"
   ]
  },
  {
   "cell_type": "markdown",
   "metadata": {},
   "source": [
    "#### The Code"
   ]
  },
  {
   "cell_type": "code",
   "execution_count": 1,
   "metadata": {},
   "outputs": [
    {
     "name": "stdout",
     "output_type": "stream",
     "text": [
      "67\n"
     ]
    }
   ],
   "source": [
    "# importing random and setting it up\n",
    "import random\n",
    "lower = 0\n",
    "upper = 100\n",
    "rnd = random.randint(lower,upper)\n",
    "print(rnd)"
   ]
  },
  {
   "cell_type": "code",
   "execution_count": 2,
   "metadata": {},
   "outputs": [
    {
     "name": "stdout",
     "output_type": "stream",
     "text": [
      "Guess a number between 0 and 100. You have 5 chances left:  23\n",
      "Wrong! Haha!\n",
      "\n",
      "Guess a number between 0 and 100. You have 4 chances left:  75\n",
      "Wrong! Haha!\n",
      "\n",
      "Guess a number between 0 and 100. You have 3 chances left:  88\n",
      "Wrong! Haha!\n",
      "\n",
      "Guess a number between 0 and 100. You have 2 chances left:  12\n",
      "Wrong! Haha!\n",
      "\n",
      "Guess a number between 0 and 100. You have 1 chances left:  4\n",
      "Wrong! Haha!\n",
      "\n",
      "You lost, dummy! 67 was the answer all along!\n"
     ]
    }
   ],
   "source": [
    "# Identifying steps in `while` loop.\n",
    "# 1. Notifying User of number bounds\n",
    "# 2. allowing User to input a guess\n",
    "# 3.1 If CORRECT, printing congrats (exit)\n",
    "# 3.2 If WRONG, printing insult (3x)\n",
    "# 4 If WRONG 3x, insult and quit\n",
    "\n",
    "#print(\"Pick a Number between 0 and 100, you have 5 chances. Good luck!\")\n",
    "\n",
    "#current = (3 - count)\n",
    "\n",
    "count = 0\n",
    "while True:\n",
    "    if count == 5:\n",
    "        print(\"You lost, dummy!\",rnd,\"was the answer all along!\")\n",
    "        break\n",
    "\n",
    "    else:\n",
    "        current = 5 - count\n",
    "        i = int(input(\"Guess a number between 0 and 100. You have {} chances left:  \".format(current)))\n",
    "        \n",
    "        if i == rnd:\n",
    "            print(\"That's Correct!\")\n",
    "            break\n",
    "            \n",
    "        if i != rnd:\n",
    "            print(\"Wrong! Haha! Try again!\\n\")\n",
    "            count += 1   \n",
    "            "
   ]
  },
  {
   "cell_type": "code",
   "execution_count": null,
   "metadata": {},
   "outputs": [],
   "source": [
    "print(rnd, \" What?\")"
   ]
  },
  {
   "cell_type": "markdown",
   "metadata": {},
   "source": [
    "---\n",
    "### Unused Code (Learning Code)\n",
    "\n",
    "> The problem I ran into with this code was I never set user input ('i' above) equal to anything that would exit the `while` loop. So the program would never actually *know* if the input was equal to `rnd`. Oops. The human brain was gliding effortlessly over something that tripped up the poor little machine.\n",
    "\n",
    "#guess_1 = int(input(\"First Guess: \"))\n",
    "#guess_2 = int(input(\"Second Guess: \"))\n",
    "#guess_3 = int(input(\"Final Guess Now: \"))\n",
    "#failure = \"Better luck next time, big brain!\"\n",
    "\n",
    "#this code was a failure, so it has been cut out. Kept for learning purposes\n",
    "```py\n",
    "guess_1 = int(input(\"Three Guesses Left!\"))\n",
    "guess_2 = int(input(\"Three Guesses Left!\"))\n",
    "guess_3 = int(input(\"One Guess Left!\"))\n",
    "\n",
    "\n",
    "while True:\n",
    "    print(\"You have 3 chances to guess a number between 0 and 100. Good luck\")\n",
    "\n",
    "    else:\n",
    "        if guess_1 == rnd:    # rnd is defined above as random_integer\n",
    "            print(\"Congratulations!\")\n",
    "            break \n",
    "        \n",
    "        if guess_2 == rnd:\n",
    "            print(\"Congratulations!\")\n",
    "            break\n",
    "      \n",
    "        if guess_3 == rnd:\n",
    "            print(\"Congratulations!\")\n",
    "            break\n",
    "            \n",
    "    break\n",
    "    ```"
   ]
  },
  {
   "cell_type": "code",
   "execution_count": null,
   "metadata": {},
   "outputs": [],
   "source": []
  },
  {
   "cell_type": "code",
   "execution_count": null,
   "metadata": {},
   "outputs": [],
   "source": []
  },
  {
   "cell_type": "code",
   "execution_count": null,
   "metadata": {},
   "outputs": [],
   "source": []
  },
  {
   "cell_type": "code",
   "execution_count": null,
   "metadata": {},
   "outputs": [],
   "source": []
  },
  {
   "cell_type": "code",
   "execution_count": null,
   "metadata": {},
   "outputs": [],
   "source": []
  },
  {
   "cell_type": "code",
   "execution_count": null,
   "metadata": {},
   "outputs": [],
   "source": []
  },
  {
   "cell_type": "code",
   "execution_count": null,
   "metadata": {},
   "outputs": [],
   "source": []
  },
  {
   "cell_type": "code",
   "execution_count": null,
   "metadata": {},
   "outputs": [],
   "source": []
  },
  {
   "cell_type": "code",
   "execution_count": null,
   "metadata": {},
   "outputs": [],
   "source": []
  }
 ],
 "metadata": {
  "kernelspec": {
   "display_name": "Python 3",
   "language": "python",
   "name": "python3"
  },
  "language_info": {
   "codemirror_mode": {
    "name": "ipython",
    "version": 3
   },
   "file_extension": ".py",
   "mimetype": "text/x-python",
   "name": "python",
   "nbconvert_exporter": "python",
   "pygments_lexer": "ipython3",
   "version": "3.7.3"
  }
 },
 "nbformat": 4,
 "nbformat_minor": 2
}
