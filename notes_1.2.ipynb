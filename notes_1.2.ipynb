{
 "cells": [
  {
   "cell_type": "markdown",
   "metadata": {},
   "source": [
    "# Notes from Class\n",
    "### 2019 June 4\n",
    "`Cameron.Cn`"
   ]
  },
  {
   "cell_type": "markdown",
   "metadata": {},
   "source": [
    "```py\n",
    "for m in range(1,100):\n",
    "    if m % 3 == 0 and m % 5 == 0:\n",
    "        print(\"Whoa Now!\")\n",
    "        ```"
   ]
  },
  {
   "cell_type": "markdown",
   "metadata": {},
   "source": [
    "---\n",
    "Sites | Used For\n",
    ":---: | ---\n",
    "https://www.saltycrane.com/blog/2007/09/how-to-sort-python-dictionary-by-keys/ | Sorting Dictionary\n",
    "http://www.gutenberg.org/ebooks/59654 | Interesting Book"
   ]
  },
  {
   "cell_type": "code",
   "execution_count": 1,
   "metadata": {},
   "outputs": [
    {
     "name": "stdout",
     "output_type": "stream",
     "text": [
      "Employee Name: Dr. Madoff\n",
      "Enter Hourly Wage: $10\n",
      "Enter Regular Hours Worked: 10\n",
      "Enter Overtime Worked: 10\n",
      "Total weekly pay for Dr. Madoff is: $250.0\n"
     ]
    }
   ],
   "source": [
    "# We did exercise 2 (employeepay.py) today:\n",
    "\n",
    "#Requests the inputs\n",
    "staffName = str(input(\"Employee Name: \")) # added this for fun\n",
    "wage = float(input(\"Enter Hourly Wage: $\"))\n",
    "regularHours = float(input(\"Enter Regular Hours Worked: \"))\n",
    "overtimeHours = float(input(\"Enter Overtime Worked: \"))\n",
    "\n",
    "#Compute totalPay\n",
    "# (This line was missing)\n",
    "\n",
    "standardPay = (wage * regularHours)  # StandardPay, because we have to ADD overtimePay later on\n",
    "totalPay = standardPay + (overtimeHours * (1.5*wage)) # totalPay includes overtimePay, if there is any\n",
    "\n",
    "#Display the result\n",
    "#print(staffName) \n",
    "print(\"Total weekly pay for\" ,staffName, \"is: $\" + str(round(totalPay, 2)))"
   ]
  },
  {
   "cell_type": "code",
   "execution_count": null,
   "metadata": {},
   "outputs": [],
   "source": []
  },
  {
   "cell_type": "code",
   "execution_count": 2,
   "metadata": {},
   "outputs": [],
   "source": [
    "# Program \"Doctor\" subsitution and repetition program for interactive text lanes"
   ]
  },
  {
   "cell_type": "code",
   "execution_count": 3,
   "metadata": {},
   "outputs": [
    {
     "name": "stdout",
     "output_type": "stream",
     "text": [
      "HelloWorld\n"
     ]
    }
   ],
   "source": [
    "# splicing strings and concatenation\n",
    "word1 = \"Hello\"\n",
    "word2 = \"World\"\n",
    "fullword = word1 + word2\n",
    "print(fullword)"
   ]
  },
  {
   "cell_type": "code",
   "execution_count": 4,
   "metadata": {},
   "outputs": [
    {
     "name": "stdout",
     "output_type": "stream",
     "text": [
      "Wor\n"
     ]
    }
   ],
   "source": [
    "# strings can be chopped, starting character at 0\n",
    "print(word2[0:3])"
   ]
  },
  {
   "cell_type": "code",
   "execution_count": 5,
   "metadata": {},
   "outputs": [
    {
     "name": "stdout",
     "output_type": "stream",
     "text": [
      "HelloHelloHello\n"
     ]
    }
   ],
   "source": [
    "# strings can be repeated\n",
    "print(word1 * 3)"
   ]
  },
  {
   "cell_type": "code",
   "execution_count": 6,
   "metadata": {},
   "outputs": [
    {
     "name": "stdout",
     "output_type": "stream",
     "text": [
      "My name is Cam!\n",
      "My name is Cam !\n"
     ]
    }
   ],
   "source": [
    "# print statement formatting\n",
    "name = \"Cam\"\n",
    "print(\"My name is {}!\".format(name))\n",
    "print(\"My name is\",name,\"!\")"
   ]
  },
  {
   "cell_type": "code",
   "execution_count": 7,
   "metadata": {},
   "outputs": [
    {
     "name": "stdout",
     "output_type": "stream",
     "text": [
      "What is your name? No1\n",
      "My name is No1\n"
     ]
    }
   ],
   "source": [
    "fname = input(\"What is your name? \")\n",
    "print(\"My name is {0}\".format(fname))"
   ]
  },
  {
   "cell_type": "code",
   "execution_count": 8,
   "metadata": {},
   "outputs": [
    {
     "name": "stdout",
     "output_type": "stream",
     "text": [
      "We are the knights who say \"Ni!\"\n",
      "We are the knights who say \"ni!\"\n",
      "We are the knights who say 'NI' !\n"
     ]
    }
   ],
   "source": [
    "# Introducing print formating. Empty braces as a place holder.\n",
    "print('We are the {} who say \"{}!\"'.format(\"knights\",\"Ni\"))\n",
    "\n",
    "print('We are the {0} who say \"{1}!\"'.format('knights','ni'))\n",
    "\n",
    "per = \"knights\"\n",
    "phr = \"'NI'\"\n",
    "print(\"We are the\",per,\"who say\",phr,\"!\")"
   ]
  },
  {
   "cell_type": "markdown",
   "metadata": {},
   "source": [
    "---\n",
    "## In-Class Exercise: 99 Bottles of Beer\n",
    "##### Write the lyrics that count backwards!"
   ]
  },
  {
   "cell_type": "code",
   "execution_count": 9,
   "metadata": {
    "scrolled": true
   },
   "outputs": [
    {
     "name": "stdout",
     "output_type": "stream",
     "text": [
      "99 bottles of beer on the wall, 99 bottles of beer! Take one down, pass it around, 98 bottles of beer on the wall!\n",
      "98 bottles of beer on the wall, 98 bottles of beer! Take one down, pass it around, 97 bottles of beer on the wall!\n",
      "97 bottles of beer on the wall, 97 bottles of beer! Take one down, pass it around, 96 bottles of beer on the wall!\n",
      "96 bottles of beer on the wall, 96 bottles of beer! Take one down, pass it around, 95 bottles of beer on the wall!\n",
      "95 bottles of beer on the wall, 95 bottles of beer! Take one down, pass it around, 94 bottles of beer on the wall!\n",
      "94 bottles of beer on the wall, 94 bottles of beer! Take one down, pass it around, 93 bottles of beer on the wall!\n",
      "93 bottles of beer on the wall, 93 bottles of beer! Take one down, pass it around, 92 bottles of beer on the wall!\n",
      "92 bottles of beer on the wall, 92 bottles of beer! Take one down, pass it around, 91 bottles of beer on the wall!\n",
      "91 bottles of beer on the wall, 91 bottles of beer! Take one down, pass it around, 90 bottles of beer on the wall!\n",
      "90 bottles of beer on the wall, 90 bottles of beer! Take one down, pass it around, 89 bottles of beer on the wall!\n",
      "89 bottles of beer on the wall, 89 bottles of beer! Take one down, pass it around, 88 bottles of beer on the wall!\n",
      "88 bottles of beer on the wall, 88 bottles of beer! Take one down, pass it around, 87 bottles of beer on the wall!\n",
      "87 bottles of beer on the wall, 87 bottles of beer! Take one down, pass it around, 86 bottles of beer on the wall!\n",
      "86 bottles of beer on the wall, 86 bottles of beer! Take one down, pass it around, 85 bottles of beer on the wall!\n",
      "85 bottles of beer on the wall, 85 bottles of beer! Take one down, pass it around, 84 bottles of beer on the wall!\n",
      "84 bottles of beer on the wall, 84 bottles of beer! Take one down, pass it around, 83 bottles of beer on the wall!\n",
      "83 bottles of beer on the wall, 83 bottles of beer! Take one down, pass it around, 82 bottles of beer on the wall!\n",
      "82 bottles of beer on the wall, 82 bottles of beer! Take one down, pass it around, 81 bottles of beer on the wall!\n",
      "81 bottles of beer on the wall, 81 bottles of beer! Take one down, pass it around, 80 bottles of beer on the wall!\n",
      "80 bottles of beer on the wall, 80 bottles of beer! Take one down, pass it around, 79 bottles of beer on the wall!\n",
      "79 bottles of beer on the wall, 79 bottles of beer! Take one down, pass it around, 78 bottles of beer on the wall!\n",
      "78 bottles of beer on the wall, 78 bottles of beer! Take one down, pass it around, 77 bottles of beer on the wall!\n",
      "77 bottles of beer on the wall, 77 bottles of beer! Take one down, pass it around, 76 bottles of beer on the wall!\n",
      "76 bottles of beer on the wall, 76 bottles of beer! Take one down, pass it around, 75 bottles of beer on the wall!\n",
      "75 bottles of beer on the wall, 75 bottles of beer! Take one down, pass it around, 74 bottles of beer on the wall!\n",
      "74 bottles of beer on the wall, 74 bottles of beer! Take one down, pass it around, 73 bottles of beer on the wall!\n",
      "73 bottles of beer on the wall, 73 bottles of beer! Take one down, pass it around, 72 bottles of beer on the wall!\n",
      "72 bottles of beer on the wall, 72 bottles of beer! Take one down, pass it around, 71 bottles of beer on the wall!\n",
      "71 bottles of beer on the wall, 71 bottles of beer! Take one down, pass it around, 70 bottles of beer on the wall!\n",
      "70 bottles of beer on the wall, 70 bottles of beer! Take one down, pass it around, 69 bottles of beer on the wall!\n",
      "69 bottles of beer on the wall, 69 bottles of beer! Take one down, pass it around, 68 bottles of beer on the wall!\n",
      "68 bottles of beer on the wall, 68 bottles of beer! Take one down, pass it around, 67 bottles of beer on the wall!\n",
      "67 bottles of beer on the wall, 67 bottles of beer! Take one down, pass it around, 66 bottles of beer on the wall!\n",
      "66 bottles of beer on the wall, 66 bottles of beer! Take one down, pass it around, 65 bottles of beer on the wall!\n",
      "65 bottles of beer on the wall, 65 bottles of beer! Take one down, pass it around, 64 bottles of beer on the wall!\n",
      "64 bottles of beer on the wall, 64 bottles of beer! Take one down, pass it around, 63 bottles of beer on the wall!\n",
      "63 bottles of beer on the wall, 63 bottles of beer! Take one down, pass it around, 62 bottles of beer on the wall!\n",
      "62 bottles of beer on the wall, 62 bottles of beer! Take one down, pass it around, 61 bottles of beer on the wall!\n",
      "61 bottles of beer on the wall, 61 bottles of beer! Take one down, pass it around, 60 bottles of beer on the wall!\n",
      "60 bottles of beer on the wall, 60 bottles of beer! Take one down, pass it around, 59 bottles of beer on the wall!\n",
      "59 bottles of beer on the wall, 59 bottles of beer! Take one down, pass it around, 58 bottles of beer on the wall!\n",
      "58 bottles of beer on the wall, 58 bottles of beer! Take one down, pass it around, 57 bottles of beer on the wall!\n",
      "57 bottles of beer on the wall, 57 bottles of beer! Take one down, pass it around, 56 bottles of beer on the wall!\n",
      "56 bottles of beer on the wall, 56 bottles of beer! Take one down, pass it around, 55 bottles of beer on the wall!\n",
      "55 bottles of beer on the wall, 55 bottles of beer! Take one down, pass it around, 54 bottles of beer on the wall!\n",
      "54 bottles of beer on the wall, 54 bottles of beer! Take one down, pass it around, 53 bottles of beer on the wall!\n",
      "53 bottles of beer on the wall, 53 bottles of beer! Take one down, pass it around, 52 bottles of beer on the wall!\n",
      "52 bottles of beer on the wall, 52 bottles of beer! Take one down, pass it around, 51 bottles of beer on the wall!\n",
      "51 bottles of beer on the wall, 51 bottles of beer! Take one down, pass it around, 50 bottles of beer on the wall!\n",
      "50 bottles of beer on the wall, 50 bottles of beer! Take one down, pass it around, 49 bottles of beer on the wall!\n",
      "49 bottles of beer on the wall, 49 bottles of beer! Take one down, pass it around, 48 bottles of beer on the wall!\n",
      "48 bottles of beer on the wall, 48 bottles of beer! Take one down, pass it around, 47 bottles of beer on the wall!\n",
      "47 bottles of beer on the wall, 47 bottles of beer! Take one down, pass it around, 46 bottles of beer on the wall!\n",
      "46 bottles of beer on the wall, 46 bottles of beer! Take one down, pass it around, 45 bottles of beer on the wall!\n",
      "45 bottles of beer on the wall, 45 bottles of beer! Take one down, pass it around, 44 bottles of beer on the wall!\n",
      "44 bottles of beer on the wall, 44 bottles of beer! Take one down, pass it around, 43 bottles of beer on the wall!\n",
      "43 bottles of beer on the wall, 43 bottles of beer! Take one down, pass it around, 42 bottles of beer on the wall!\n",
      "42 bottles of beer on the wall, 42 bottles of beer! Take one down, pass it around, 41 bottles of beer on the wall!\n",
      "41 bottles of beer on the wall, 41 bottles of beer! Take one down, pass it around, 40 bottles of beer on the wall!\n",
      "40 bottles of beer on the wall, 40 bottles of beer! Take one down, pass it around, 39 bottles of beer on the wall!\n",
      "39 bottles of beer on the wall, 39 bottles of beer! Take one down, pass it around, 38 bottles of beer on the wall!\n",
      "38 bottles of beer on the wall, 38 bottles of beer! Take one down, pass it around, 37 bottles of beer on the wall!\n",
      "37 bottles of beer on the wall, 37 bottles of beer! Take one down, pass it around, 36 bottles of beer on the wall!\n",
      "36 bottles of beer on the wall, 36 bottles of beer! Take one down, pass it around, 35 bottles of beer on the wall!\n",
      "35 bottles of beer on the wall, 35 bottles of beer! Take one down, pass it around, 34 bottles of beer on the wall!\n",
      "34 bottles of beer on the wall, 34 bottles of beer! Take one down, pass it around, 33 bottles of beer on the wall!\n",
      "33 bottles of beer on the wall, 33 bottles of beer! Take one down, pass it around, 32 bottles of beer on the wall!\n",
      "32 bottles of beer on the wall, 32 bottles of beer! Take one down, pass it around, 31 bottles of beer on the wall!\n",
      "31 bottles of beer on the wall, 31 bottles of beer! Take one down, pass it around, 30 bottles of beer on the wall!\n",
      "30 bottles of beer on the wall, 30 bottles of beer! Take one down, pass it around, 29 bottles of beer on the wall!\n",
      "29 bottles of beer on the wall, 29 bottles of beer! Take one down, pass it around, 28 bottles of beer on the wall!\n",
      "28 bottles of beer on the wall, 28 bottles of beer! Take one down, pass it around, 27 bottles of beer on the wall!\n",
      "27 bottles of beer on the wall, 27 bottles of beer! Take one down, pass it around, 26 bottles of beer on the wall!\n",
      "26 bottles of beer on the wall, 26 bottles of beer! Take one down, pass it around, 25 bottles of beer on the wall!\n",
      "25 bottles of beer on the wall, 25 bottles of beer! Take one down, pass it around, 24 bottles of beer on the wall!\n",
      "24 bottles of beer on the wall, 24 bottles of beer! Take one down, pass it around, 23 bottles of beer on the wall!\n",
      "23 bottles of beer on the wall, 23 bottles of beer! Take one down, pass it around, 22 bottles of beer on the wall!\n",
      "22 bottles of beer on the wall, 22 bottles of beer! Take one down, pass it around, 21 bottles of beer on the wall!\n",
      "21 bottles of beer on the wall, 21 bottles of beer! Take one down, pass it around, 20 bottles of beer on the wall!\n",
      "20 bottles of beer on the wall, 20 bottles of beer! Take one down, pass it around, 19 bottles of beer on the wall!\n",
      "19 bottles of beer on the wall, 19 bottles of beer! Take one down, pass it around, 18 bottles of beer on the wall!\n",
      "18 bottles of beer on the wall, 18 bottles of beer! Take one down, pass it around, 17 bottles of beer on the wall!\n",
      "17 bottles of beer on the wall, 17 bottles of beer! Take one down, pass it around, 16 bottles of beer on the wall!\n",
      "16 bottles of beer on the wall, 16 bottles of beer! Take one down, pass it around, 15 bottles of beer on the wall!\n",
      "15 bottles of beer on the wall, 15 bottles of beer! Take one down, pass it around, 14 bottles of beer on the wall!\n",
      "14 bottles of beer on the wall, 14 bottles of beer! Take one down, pass it around, 13 bottles of beer on the wall!\n",
      "13 bottles of beer on the wall, 13 bottles of beer! Take one down, pass it around, 12 bottles of beer on the wall!\n",
      "12 bottles of beer on the wall, 12 bottles of beer! Take one down, pass it around, 11 bottles of beer on the wall!\n",
      "11 bottles of beer on the wall, 11 bottles of beer! Take one down, pass it around, 10 bottles of beer on the wall!\n",
      "10 bottles of beer on the wall, 10 bottles of beer! Take one down, pass it around, 9 bottles of beer on the wall!\n",
      "9 bottles of beer on the wall, 9 bottles of beer! Take one down, pass it around, 8 bottles of beer on the wall!\n",
      "8 bottles of beer on the wall, 8 bottles of beer! Take one down, pass it around, 7 bottles of beer on the wall!\n",
      "7 bottles of beer on the wall, 7 bottles of beer! Take one down, pass it around, 6 bottles of beer on the wall!\n",
      "6 bottles of beer on the wall, 6 bottles of beer! Take one down, pass it around, 5 bottles of beer on the wall!\n",
      "5 bottles of beer on the wall, 5 bottles of beer! Take one down, pass it around, 4 bottles of beer on the wall!\n",
      "4 bottles of beer on the wall, 4 bottles of beer! Take one down, pass it around, 3 bottles of beer on the wall!\n",
      "3 bottles of beer on the wall, 3 bottles of beer! Take one down, pass it around, 2 bottles of beer on the wall!\n",
      "2 bottles of beer on the wall, 2 bottles of beer! Take one down, pass it around, 1 bottles of beer on the wall!\n",
      "Only 1 bottle of beer on the wall, only 1 bottle of beer! Take it down, pass it around, 0 bottles of beer on the wall!\n",
      "My muh sungh heere is mmrmmphh! *slides to floor*\n"
     ]
    }
   ],
   "source": [
    "# for the song 99 Bottles of Beer (commonly known)\n",
    "\n",
    "for bottle in range(99,0,-1): # this starts us at the famous double-syllabic count of beer bottles\n",
    "    \n",
    "    if bottle == 1: # have to make sure the singular is used, not the plural\n",
    "        print(\"Only {0} bottle of beer on the wall, only {0} bottle of beer! Take it down, pass it around, {1} bottles of beer on the wall!\".format(bottle,bottle -1))\n",
    "  \n",
    "    if bottle > 99 or bottle > 1: # this is the bulk of the program, counting down bottle by bottle\n",
    "        print(\"{0} bottles of beer on the wall, {0} bottles of beer! Take one down, pass it around, {1} bottles of beer on the wall!\".format(bottle,bottle -1))\n",
    "    \n",
    "    else: # this is the last last line of the night, until a raging headache tomorrow\n",
    "        print(\"My muh sungh heere is mmrmmphh! *slides to floor*\")"
   ]
  },
  {
   "cell_type": "code",
   "execution_count": 10,
   "metadata": {},
   "outputs": [
    {
     "name": "stdout",
     "output_type": "stream",
     "text": [
      "my name is northumberland\n",
      "MY NAME IS NORTHUMBERLAND\n"
     ]
    }
   ],
   "source": [
    "#changing the case of a string\n",
    "intro = \"My Name is Northumberland\"\n",
    "print(intro.lower())\n",
    "print(intro.upper())"
   ]
  },
  {
   "cell_type": "code",
   "execution_count": 11,
   "metadata": {},
   "outputs": [
    {
     "data": {
      "text/plain": [
       "False"
      ]
     },
     "execution_count": 11,
     "metadata": {},
     "output_type": "execute_result"
    }
   ],
   "source": [
    "# check if string is alpha\n",
    "intro.isalpha()\n"
   ]
  },
  {
   "cell_type": "code",
   "execution_count": 12,
   "metadata": {},
   "outputs": [
    {
     "data": {
      "text/plain": [
       "True"
      ]
     },
     "execution_count": 12,
     "metadata": {},
     "output_type": "execute_result"
    }
   ],
   "source": [
    "str1 = \"hello\"\n",
    "str1.isalpha()\n",
    "# spaces are NOT alpha characters"
   ]
  },
  {
   "cell_type": "code",
   "execution_count": 13,
   "metadata": {},
   "outputs": [
    {
     "data": {
      "text/plain": [
       "'My Name is Avi'"
      ]
     },
     "execution_count": 13,
     "metadata": {},
     "output_type": "execute_result"
    }
   ],
   "source": [
    "intro2 = \"My Name is Chuck\"\n",
    "intro2.replace(\"Chuck\",\"Avi\") # replaces just as you would expect!"
   ]
  },
  {
   "cell_type": "code",
   "execution_count": 14,
   "metadata": {},
   "outputs": [
    {
     "data": {
      "text/plain": [
       "['My', 'Name', 'is', 'Northumberland']"
      ]
     },
     "execution_count": 14,
     "metadata": {},
     "output_type": "execute_result"
    }
   ],
   "source": [
    "# split strings into parts by a given character \n",
    "# white space is default (spaces, tabs)\n",
    "# \n",
    "intro.split()"
   ]
  },
  {
   "cell_type": "code",
   "execution_count": 15,
   "metadata": {},
   "outputs": [
    {
     "data": {
      "text/plain": [
       "['My Nam', ' is Northumb', 'rland']"
      ]
     },
     "execution_count": 15,
     "metadata": {},
     "output_type": "execute_result"
    }
   ],
   "source": [
    "# split by letter\n",
    "intro.split('e')"
   ]
  },
  {
   "cell_type": "code",
   "execution_count": 16,
   "metadata": {},
   "outputs": [
    {
     "name": "stdout",
     "output_type": "stream",
     "text": [
      "Xhello world!X\n",
      "X        hello world!X\n",
      "Xhello world!      X\n"
     ]
    }
   ],
   "source": [
    "# newstreang cutting into common date formats\n",
    "newstr = \"2019-6-24\"\n",
    "newstr.split(\"-\")\n",
    "\n",
    "# removing leading or trailing whitespace\n",
    "extra = \"        hello world!      \"\n",
    "print(\"X{}X\".format(extra.strip())) #removes leading AND trailing whitespace\n",
    "\n",
    "# removing leading or trailing whitespace\n",
    "extra2 = \"        hello world!      \"\n",
    "print(\"X{}X\".format(extra2.rstrip()))  # removes trailing\n",
    "extra3 = \"        hello world!      \"\n",
    "print(\"X{}X\".format(extra3.lstrip())) # removes left, preceding\n"
   ]
  },
  {
   "cell_type": "code",
   "execution_count": 17,
   "metadata": {},
   "outputs": [
    {
     "name": "stdout",
     "output_type": "stream",
     "text": [
      "apples\torange\n",
      "bananas\n"
     ]
    }
   ],
   "source": [
    "# newlines and tabs in strings\n",
    "fruit = \"apples\\torange\\nbananas\"  # \\t is a tab, \\n is a newline\n",
    "print(fruit)"
   ]
  },
  {
   "cell_type": "code",
   "execution_count": null,
   "metadata": {},
   "outputs": [],
   "source": []
  },
  {
   "cell_type": "code",
   "execution_count": null,
   "metadata": {},
   "outputs": [],
   "source": []
  },
  {
   "cell_type": "markdown",
   "metadata": {},
   "source": [
    "---\n",
    "## In-Class Exercise: Movie Names\n",
    "##### \n",
    "\n",
    "| Year | Film | Rating\n",
    "|---|---|---|\n",
    "1950s|Casablanca|4| \n",
    "1960s|Driving Ms. Daisy|1|\n",
    "1970s|Star Wars|5|\n",
    "1980s|Terminator|3|\n",
    "1990s|The Matrix|5|\n",
    "2000s|UP|5|\n",
    "2010s|The Amazing Spider-Man|3|"
   ]
  },
  {
   "cell_type": "code",
   "execution_count": 18,
   "metadata": {},
   "outputs": [
    {
     "name": "stdout",
     "output_type": "stream",
     "text": [
      "What was a movie you liked? Press 'q' to quit: Pokemon Movie\n",
      "Pokemon Movie? Ugh, that was a terrible movie! Try again! \n",
      "\n",
      "What was a movie you liked? Press 'q' to quit: The Emojii Movie\n",
      "The Emojii Movie? Ugh, that was a terrible movie! Try again! \n",
      "\n",
      "What was a movie you liked? Press 'q' to quit: Fifel Goes West\n",
      "Fifel Goes West? Ugh, that was a terrible movie! Try again! \n",
      "\n",
      "What was a movie you liked? Press 'q' to quit: Big Strange Bump\n",
      "Big Strange Bump? Ugh, that was a terrible movie! Try again! \n",
      "\n",
      "What was a movie you liked? Press 'q' to quit: q\n"
     ]
    }
   ],
   "source": [
    "# \"while TRUE\" will loop FOREVER until you use 'break'\n",
    "while True:\n",
    "    answer = input(\"What was a movie you liked? Press 'q' to quit: \")\n",
    "    if answer.lower() == 'q':\n",
    "        break\n",
    "    else:\n",
    "        print(answer + \"? Ugh, that was a terrible movie! Try again! \\n\")\n",
    "        #or\n",
    "        #print(answer +\"? Oh, I loved that! Especially that one scene, very tragic. \\n\")\n"
   ]
  },
  {
   "cell_type": "markdown",
   "metadata": {},
   "source": [
    "---\n",
    "### Lists, Dictionaries, Methods"
   ]
  },
  {
   "cell_type": "code",
   "execution_count": 24,
   "metadata": {},
   "outputs": [
    {
     "name": "stdout",
     "output_type": "stream",
     "text": [
      "Birthday Person's Name: Loius\n",
      "\n",
      "Happy Birthday to you!\n",
      "Happy Birthday to you!\n",
      "Happy Birthday dear Loius!\n",
      "Happy Birthday to yoooooooou!\n"
     ]
    }
   ],
   "source": [
    "def greeting(name):\n",
    "    message = \"\\nHappy Birthday to you!\\n\"\n",
    "    message += \"Happy Birthday to you!\\n\"\n",
    "    message += \"Happy Birthday dear \"+ name +\"!\\n\"\n",
    "    message += \"Happy Birthday to yoooooooou!\"\n",
    "    print(message)\n",
    "    \n",
    "name = input(\"Birthday Person's Name: \") \n",
    "greeting(name)"
   ]
  },
  {
   "cell_type": "code",
   "execution_count": 27,
   "metadata": {},
   "outputs": [
    {
     "name": "stdout",
     "output_type": "stream",
     "text": [
      "\n",
      "Happy Birthday to you!\n",
      "Happy Birthday to you!\n",
      "Happy Birthday dear Louis XVI!\n",
      "Happy Birthday to yoooooooou!\n"
     ]
    }
   ],
   "source": [
    "#f(n) can return values\n",
    "def greeting(name): #input\n",
    "    message = \"\\nHappy Birthday to you!\\n\"\n",
    "    message += \"Happy Birthday to you!\\n\"         #processing\n",
    "    message += \"Happy Birthday dear \"+ name +\"!\\n\"\n",
    "    message += \"Happy Birthday to yoooooooou!\"\n",
    "    return message   # output\n",
    "    \n",
    "name = \"Louis XVI\"\n",
    "print(greeting(name))"
   ]
  },
  {
   "cell_type": "markdown",
   "metadata": {},
   "source": [
    "##### Dictionary\n",
    "\n",
    "_Dictionaries are sequences of key/value pairs separated by commas. These are entries_"
   ]
  },
  {
   "cell_type": "code",
   "execution_count": 29,
   "metadata": {},
   "outputs": [
    {
     "name": "stdout",
     "output_type": "stream",
     "text": [
      "234.532.2352\n"
     ]
    }
   ],
   "source": [
    "phone = {\"Dave\": '123.456.7890',\"Kenisha\":'234.532.2352'}\n",
    "print(phone[\"Kenisha\"])"
   ]
  },
  {
   "cell_type": "code",
   "execution_count": 35,
   "metadata": {},
   "outputs": [
    {
     "data": {
      "text/plain": [
       "['123.456.7890', '234.532.2352']"
      ]
     },
     "execution_count": 35,
     "metadata": {},
     "output_type": "execute_result"
    }
   ],
   "source": [
    "\n",
    "list(phone.values())"
   ]
  },
  {
   "cell_type": "code",
   "execution_count": 36,
   "metadata": {},
   "outputs": [
    {
     "data": {
      "text/plain": [
       "['Dave', 'Kenisha']"
      ]
     },
     "execution_count": 36,
     "metadata": {},
     "output_type": "execute_result"
    }
   ],
   "source": [
    "# return list of values\n",
    "list(phone.keys())"
   ]
  },
  {
   "cell_type": "code",
   "execution_count": 39,
   "metadata": {},
   "outputs": [
    {
     "data": {
      "text/plain": [
       "[('Dave', '123.456.7890'), ('Kenisha', '234.532.2352')]"
      ]
     },
     "execution_count": 39,
     "metadata": {},
     "output_type": "execute_result"
    }
   ],
   "source": [
    "# return list of \n",
    "list(phone.items())"
   ]
  },
  {
   "cell_type": "code",
   "execution_count": 40,
   "metadata": {},
   "outputs": [
    {
     "name": "stdout",
     "output_type": "stream",
     "text": [
      "{'Dave': '123.456.7890', 'Kenisha': '234.532.2352'}\n"
     ]
    }
   ],
   "source": [
    "print(phone)"
   ]
  },
  {
   "cell_type": "code",
   "execution_count": 44,
   "metadata": {},
   "outputs": [
    {
     "name": "stdout",
     "output_type": "stream",
     "text": [
      "Dave\n",
      "Kenisha\n"
     ]
    }
   ],
   "source": [
    "# loop to print keys\n",
    "for key in phone:\n",
    "    print(key)"
   ]
  },
  {
   "cell_type": "code",
   "execution_count": 51,
   "metadata": {},
   "outputs": [
    {
     "name": "stdout",
     "output_type": "stream",
     "text": [
      "Dave : 123.456.7890\n",
      "Kenisha : 234.532.2352\n"
     ]
    }
   ],
   "source": [
    "# loop print keys and values\n",
    "for key in phone:\n",
    "    print(\"{} : {}\".format(key, phone[key]))"
   ]
  },
  {
   "cell_type": "code",
   "execution_count": null,
   "metadata": {},
   "outputs": [],
   "source": [
    "# clear dictionary\n",
    "phone.clear()"
   ]
  },
  {
   "cell_type": "code",
   "execution_count": null,
   "metadata": {},
   "outputs": [],
   "source": []
  },
  {
   "cell_type": "code",
   "execution_count": null,
   "metadata": {},
   "outputs": [],
   "source": []
  },
  {
   "cell_type": "code",
   "execution_count": null,
   "metadata": {},
   "outputs": [],
   "source": []
  },
  {
   "cell_type": "code",
   "execution_count": null,
   "metadata": {},
   "outputs": [],
   "source": []
  },
  {
   "cell_type": "code",
   "execution_count": 52,
   "metadata": {},
   "outputs": [
    {
     "data": {
      "text/plain": [
       "[1241, 1456, 1952, 2014, 2048]"
      ]
     },
     "execution_count": 52,
     "metadata": {},
     "output_type": "execute_result"
    }
   ],
   "source": [
    "# a list of integers\n",
    "[1241,1456,1952,2014,2048]"
   ]
  },
  {
   "cell_type": "code",
   "execution_count": 54,
   "metadata": {},
   "outputs": [
    {
     "data": {
      "text/plain": [
       "['apple', 'butter', 'tree']"
      ]
     },
     "execution_count": 54,
     "metadata": {},
     "output_type": "execute_result"
    }
   ],
   "source": [
    "# list of strings\n",
    "['apple','butter','tree']"
   ]
  },
  {
   "cell_type": "code",
   "execution_count": 55,
   "metadata": {},
   "outputs": [
    {
     "data": {
      "text/plain": [
       "[]"
      ]
     },
     "execution_count": 55,
     "metadata": {},
     "output_type": "execute_result"
    }
   ],
   "source": [
    "# empty list\n",
    "[]"
   ]
  },
  {
   "cell_type": "code",
   "execution_count": 58,
   "metadata": {},
   "outputs": [
    {
     "name": "stdout",
     "output_type": "stream",
     "text": [
      "[1, 3, 5, 7, 9, 11, 13, 15, 17, 19, 21, 23]\n"
     ]
    }
   ],
   "source": [
    "# we can build a list with\n",
    "datga = list(range(1,25,2))\n",
    "print(datga)"
   ]
  },
  {
   "cell_type": "code",
   "execution_count": 62,
   "metadata": {},
   "outputs": [
    {
     "data": {
      "text/plain": [
       "12"
      ]
     },
     "execution_count": 62,
     "metadata": {},
     "output_type": "execute_result"
    }
   ],
   "source": [
    "len(datga) # count of list items"
   ]
  },
  {
   "cell_type": "code",
   "execution_count": 66,
   "metadata": {},
   "outputs": [
    {
     "name": "stdout",
     "output_type": "stream",
     "text": [
      "[5, 9, 13]\n",
      "[5, 7, 9, 11, 13, 15]\n"
     ]
    }
   ],
   "source": [
    "# slicing a list\n",
    "print(datga[2:8:2]) # prints ever other entry from positions 2 to 8\n",
    "\n",
    "print(datga[2:8]) # prints every entry from positions 2 to 8\n"
   ]
  },
  {
   "cell_type": "code",
   "execution_count": 69,
   "metadata": {},
   "outputs": [
    {
     "name": "stdout",
     "output_type": "stream",
     "text": [
      "1\n",
      "3\n",
      "5\n",
      "7\n",
      "9\n",
      "11\n",
      "13\n",
      "15\n",
      "17\n",
      "19\n",
      "21\n",
      "23\n"
     ]
    }
   ],
   "source": [
    "# print with for loop\n",
    "for item in datga:\n",
    "    print(item)"
   ]
  },
  {
   "cell_type": "markdown",
   "metadata": {},
   "source": [
    "### Random"
   ]
  },
  {
   "cell_type": "code",
   "execution_count": 79,
   "metadata": {},
   "outputs": [
    {
     "name": "stdout",
     "output_type": "stream",
     "text": [
      "6\n"
     ]
    }
   ],
   "source": [
    "import random\n",
    "# select between lower upper (inclusive)\n",
    "# run it many times to return lower/upper\n",
    "lower = 0\n",
    "upper = 15\n",
    "rnd = random.randint(lower,upper)\n",
    "print(rnd)\n"
   ]
  },
  {
   "cell_type": "code",
   "execution_count": 81,
   "metadata": {},
   "outputs": [
    {
     "name": "stdout",
     "output_type": "stream",
     "text": [
      "<class 'dict'>\n",
      "<class 'set'>\n"
     ]
    }
   ],
   "source": [
    "'''Initializing sets\n",
    "'''\n",
    "\n",
    "# initialize with {}\n",
    "a = {}\n",
    "\n",
    "print(type(a))\n",
    "\n",
    "a = set()\n",
    "\n",
    "print(type(a))"
   ]
  },
  {
   "cell_type": "code",
   "execution_count": null,
   "metadata": {},
   "outputs": [],
   "source": []
  },
  {
   "cell_type": "code",
   "execution_count": null,
   "metadata": {},
   "outputs": [],
   "source": []
  },
  {
   "cell_type": "code",
   "execution_count": null,
   "metadata": {},
   "outputs": [],
   "source": []
  },
  {
   "cell_type": "code",
   "execution_count": null,
   "metadata": {},
   "outputs": [],
   "source": []
  }
 ],
 "metadata": {
  "kernelspec": {
   "display_name": "Python 3",
   "language": "python",
   "name": "python3"
  },
  "language_info": {
   "codemirror_mode": {
    "name": "ipython",
    "version": 3
   },
   "file_extension": ".py",
   "mimetype": "text/x-python",
   "name": "python",
   "nbconvert_exporter": "python",
   "pygments_lexer": "ipython3",
   "version": "3.7.3"
  }
 },
 "nbformat": 4,
 "nbformat_minor": 2
}
