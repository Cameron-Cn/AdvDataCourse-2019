{
 "cells": [
  {
   "cell_type": "markdown",
   "metadata": {},
   "source": [
    "# Notes: Week 1, Day 3\n",
    "#### 2019 June 5\n",
    "`Cameron.Cn`\n",
    "    "
   ]
  },
  {
   "cell_type": "markdown",
   "metadata": {},
   "source": [
    "---\n",
    "#### Random, ETC"
   ]
  },
  {
   "cell_type": "code",
   "execution_count": 2,
   "metadata": {},
   "outputs": [
    {
     "name": "stdout",
     "output_type": "stream",
     "text": [
      "Enter A Good Movie or pres 'q' to quit: Hajj\n",
      "Hajj? So that's the kind of thing you like, eh? OK.\n",
      "\n",
      "Enter A Good Movie or pres 'q' to quit: Nhoa\n",
      "Nhoa? So that's the kind of thing you like, eh? OK.\n",
      "\n",
      "Enter A Good Movie or pres 'q' to quit: q\n"
     ]
    }
   ],
   "source": [
    "# creating endless LOOP\n",
    "while True:\n",
    "    answer = input(\"Enter A Good Movie or pres 'q' to quit: \")\n",
    "    if answer.lower() == \"q\":\n",
    "        break\n",
    "    else:\n",
    "        print(answer + \"? So that's the kind of thing you like, eh? OK.\\n\")\n",
    "        "
   ]
  },
  {
   "cell_type": "code",
   "execution_count": 4,
   "metadata": {},
   "outputs": [
    {
     "name": "stdout",
     "output_type": "stream",
     "text": [
      "64\n"
     ]
    }
   ],
   "source": [
    "# random numbers\n",
    "import random\n",
    "#select random and lower upper\n",
    "\n",
    "# allowing the user to set the boundaries\n",
    "# lower = input(\"Enter the Lower Boundary: \")   # maybe it will work later, abandoning for now\n",
    "# upper = input(\"Enter the High Boundary: \")\n",
    "\n",
    "\n",
    "lower = 0\n",
    "upper = 100\n",
    "\n",
    "# printing the integer\n",
    "rnd = random.randint(lower,upper)\n",
    "print(rnd)\n"
   ]
  },
  {
   "cell_type": "code",
   "execution_count": null,
   "metadata": {},
   "outputs": [],
   "source": []
  },
  {
   "cell_type": "markdown",
   "metadata": {},
   "source": [
    "---\n",
    "## Challenges\n",
    "\n",
    "\n",
    "#### Challenge: Interactive Dict.\n",
    " ```py\n",
    " Enter a number or press (q) to quit: 10\n",
    " Enter the value or press (q) to quit: Ten\n",
    " Enter a number or press (q) to quit: 20 \n",
    " Enter the value or press (q) to quit: Twenty\n",
    " Enter a number or press (q) to quit: q\n",
    " \n",
    " You Entered:\n",
    " 10 Ten\n",
    " 20 Twenty\n",
    " ```"
   ]
  },
  {
   "cell_type": "markdown",
   "metadata": {},
   "source": [
    "#### Challenge: ZORK\n",
    "> Zork is a famous text-based video game."
   ]
  },
  {
   "cell_type": "markdown",
   "metadata": {},
   "source": [
    "### Coding Terms\n",
    "\n",
    "Scope creep : where the project becomes bigger than it has to be\n",
    "\n",
    "gold-plating : adding features that were not requested (working for free or providing \"too much\")"
   ]
  },
  {
   "cell_type": "code",
   "execution_count": null,
   "metadata": {},
   "outputs": [],
   "source": []
  },
  {
   "cell_type": "markdown",
   "metadata": {},
   "source": []
  },
  {
   "cell_type": "code",
   "execution_count": null,
   "metadata": {},
   "outputs": [],
   "source": []
  },
  {
   "cell_type": "code",
   "execution_count": null,
   "metadata": {},
   "outputs": [],
   "source": []
  },
  {
   "cell_type": "code",
   "execution_count": null,
   "metadata": {},
   "outputs": [],
   "source": []
  }
 ],
 "metadata": {
  "kernelspec": {
   "display_name": "Python 3",
   "language": "python",
   "name": "python3"
  },
  "language_info": {
   "codemirror_mode": {
    "name": "ipython",
    "version": 3
   },
   "file_extension": ".py",
   "mimetype": "text/x-python",
   "name": "python",
   "nbconvert_exporter": "python",
   "pygments_lexer": "ipython3",
   "version": "3.7.3"
  }
 },
 "nbformat": 4,
 "nbformat_minor": 2
}
