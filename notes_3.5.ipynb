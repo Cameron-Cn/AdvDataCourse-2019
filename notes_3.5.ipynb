{
 "cells": [
  {
   "cell_type": "markdown",
   "metadata": {},
   "source": [
    "# Notes Week 3, Day 5 { &#3453; &#6149;&#6153;}\n",
    "### 2019 June 21\n",
    "`Cameron.Cn` \n",
    "\n",
    "\"Happy Summer Solstice!\"\n",
    "\n",
    "https://www.thisismetis.com/demystifying-data-science\n"
   ]
  },
  {
   "cell_type": "markdown",
   "metadata": {},
   "source": [
    "---\n",
    "---\n",
    "## Data from APIs (No Key, & Key)\n",
    "---"
   ]
  },
  {
   "cell_type": "markdown",
   "metadata": {},
   "source": [
    "Project is live here | https://github.com/Cameron-Cn/AdvDataCourse-2019/blob/master/exercise11_brewing-beer_API.ipynb"
   ]
  },
  {
   "cell_type": "markdown",
   "metadata": {},
   "source": [
    "![Beers](https://live.staticflickr.com/5280/14039718059_6e8a1c9852_b.jpg)"
   ]
  },
  {
   "cell_type": "code",
   "execution_count": null,
   "metadata": {},
   "outputs": [],
   "source": []
  },
  {
   "cell_type": "code",
   "execution_count": null,
   "metadata": {},
   "outputs": [],
   "source": []
  }
 ],
 "metadata": {
  "kernelspec": {
   "display_name": "Python 3",
   "language": "python",
   "name": "python3"
  },
  "language_info": {
   "codemirror_mode": {
    "name": "ipython",
    "version": 3
   },
   "file_extension": ".py",
   "mimetype": "text/x-python",
   "name": "python",
   "nbconvert_exporter": "python",
   "pygments_lexer": "ipython3",
   "version": "3.7.3"
  }
 },
 "nbformat": 4,
 "nbformat_minor": 2
}
