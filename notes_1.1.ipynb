{
 "cells": [
  {
   "cell_type": "markdown",
   "metadata": {},
   "source": [
    "# Fun with Jupyter Notebooks\n",
    "### 2019 June 03  1.1\n",
    "<i> Notes from the day</i>\n"
   ]
  },
  {
   "cell_type": "code",
   "execution_count": null,
   "metadata": {},
   "outputs": [],
   "source": [
    "# test program\n",
    "name = input(\"Enter Your Name:\")\n",
    "response = \"Hello, \" + name + \"!\"\n",
    "print(response)"
   ]
  },
  {
   "cell_type": "code",
   "execution_count": null,
   "metadata": {},
   "outputs": [],
   "source": [
    "# To convert raw_input to a float (floating-point decimal)\n",
    "response = float(input(\"Enter Some Float: \"))\n",
    "\n",
    "# To convert raw_input as integer (whole #)\n",
    "response = int(input(\"Enter Some Integer: \"))\n",
    "\n",
    "# Raw_input as string\n",
    "response = str(input(\"Enter Some String: \"))"
   ]
  },
  {
   "cell_type": "code",
   "execution_count": null,
   "metadata": {},
   "outputs": [],
   "source": [
    "response = input(\"Enter Some Integer: \")\n",
    "print (int(float(response)))"
   ]
  },
  {
   "cell_type": "code",
   "execution_count": null,
   "metadata": {},
   "outputs": [],
   "source": [
    "# Single-line comment. \n",
    "\n",
    "# integer division\n",
    "print(5 // 2)\n",
    "\n",
    "print(100 // 3)\n",
    "\n",
    "#modulo operation for remainders\n",
    "print(7 % 3)"
   ]
  },
  {
   "cell_type": "code",
   "execution_count": 1,
   "metadata": {},
   "outputs": [
    {
     "name": "stdout",
     "output_type": "stream",
     "text": [
      "2\n",
      "0\n",
      "4\n",
      "0\n"
     ]
    }
   ],
   "source": [
    "# working with modulo\n",
    "print(10 % 4)\n",
    "print(10 % 5)\n",
    "print(10 % 6)\n",
    "print(18123 % 3)"
   ]
  },
  {
   "cell_type": "code",
   "execution_count": 14,
   "metadata": {},
   "outputs": [
    {
     "name": "stdout",
     "output_type": "stream",
     "text": [
      "Enger An Integer Please: 4565\n",
      "response is, like, totally bigger than 10, man!\n"
     ]
    }
   ],
   "source": [
    "# If statements in Python\n",
    "# convention is use 4 spaces, not TAB\n",
    "\n",
    "response = float( input(\"Enger An Integer Please: \"))\n",
    "if response > 10:\n",
    "    print(\"response is, like, totally bigger than 10, man!\")\n",
    "elif response < 10:\n",
    "    print(\"response is, well, um...sadly smaller than 10. Im sorry.\")\n",
    "else:\n",
    "    print(\"response is 10! You cant fool us, you silly pirate!\")\n",
    "\n"
   ]
  },
  {
   "cell_type": "code",
   "execution_count": 24,
   "metadata": {},
   "outputs": [
    {
     "name": "stdout",
     "output_type": "stream",
     "text": [
      "1\n",
      "2\n",
      "3\n",
      "4\n",
      "5\n",
      "6\n",
      "7\n",
      "8\n"
     ]
    }
   ],
   "source": [
    "for i in range(1, 9):\n",
    "    print(i)"
   ]
  },
  {
   "cell_type": "code",
   "execution_count": 28,
   "metadata": {
    "scrolled": false
   },
   "outputs": [
    {
     "name": "stdout",
     "output_type": "stream",
     "text": [
      "0\n",
      "2\n",
      "4\n",
      "6\n",
      "8\n",
      "10\n",
      "12\n",
      "14\n",
      "16\n"
     ]
    }
   ],
   "source": [
    "for i in range (0, 18, 2):\n",
    "    print(i)"
   ]
  },
  {
   "cell_type": "code",
   "execution_count": null,
   "metadata": {},
   "outputs": [],
   "source": []
  },
  {
   "cell_type": "code",
   "execution_count": null,
   "metadata": {},
   "outputs": [],
   "source": []
  },
  {
   "cell_type": "markdown",
   "metadata": {},
   "source": [
    "Inline `code` can be marked as such.\n",
    "`test`\n",
    "> test \n",
    "\n",
    "**asterisk and _underscore_**\n",
    "\n",
    "_underscore italics_\n",
    "\n",
    "~~squiggle strikethrough~~"
   ]
  },
  {
   "cell_type": "markdown",
   "metadata": {},
   "source": [
    "```bash\n",
    "sudo apt install monkee\n",
    "sudo apt update\n",
    "sudo apt upgrade\n",
    "echo 'Monsters!'\n",
    "cd /etc/list.conf\n",
    "```\n"
   ]
  },
  {
   "cell_type": "markdown",
   "metadata": {},
   "source": [
    "This is P1, line 1\n",
    "\n",
    "This is P2, line 1\n",
    "And this is P2, line 2"
   ]
  },
  {
   "cell_type": "markdown",
   "metadata": {},
   "source": [
    "Markdown | Less | Pretty\n",
    "--- | --- | ---\n",
    "*Still* | `renders` | **nicely**\n",
    "1 | 2 | 3\n",
    "\n",
    "---\n",
    "\n",
    "> Block Quote the likes of which we have never seen and until the day when the sky falls on our head, we shall remain stalwart and always marching forward oh and on that day; that day my friend we will scratch our fury on the diamond of the sky and make amuck. \n",
    "> Lorem Ipsum Delores Nana mank deloutha asd asdjj asdf jkncma nzjhdhia erasd j asklj;kj faernajdfhiuasdn kernw e."
   ]
  },
  {
   "cell_type": "markdown",
   "metadata": {},
   "source": [
    "> ```python\n",
    "> name = input(\"Enter Your Name:\")\n",
    "> response = \"Hello, \" + name + \"!\"\n",
    "> print(response)\n",
    "> ```\n",
    "\n",
    "Enter Your Name: \n",
    "\n",
    ">Hello, Name!"
   ]
  },
  {
   "cell_type": "code",
   "execution_count": null,
   "metadata": {},
   "outputs": [],
   "source": []
  }
 ],
 "metadata": {
  "kernelspec": {
   "display_name": "Python 3",
   "language": "python",
   "name": "python3"
  },
  "language_info": {
   "codemirror_mode": {
    "name": "ipython",
    "version": 3
   },
   "file_extension": ".py",
   "mimetype": "text/x-python",
   "name": "python",
   "nbconvert_exporter": "python",
   "pygments_lexer": "ipython3",
   "version": "3.7.3"
  }
 },
 "nbformat": 4,
 "nbformat_minor": 2
}
