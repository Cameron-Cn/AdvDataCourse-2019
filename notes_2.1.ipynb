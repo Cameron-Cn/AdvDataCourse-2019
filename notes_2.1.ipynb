{
 "cells": [
  {
   "cell_type": "markdown",
   "metadata": {},
   "source": [
    "# Note 2.1\n",
    "### 2019 June 10\n",
    "`Cameron.Cn`"
   ]
  },
  {
   "cell_type": "markdown",
   "metadata": {},
   "source": [
    "```\n",
    "Data Storytelling -- Miriam Gilbert | \"Storytelling With Numbers\"\n",
    "    [] Build a data sculpture\n",
    "    [] Deconstruct a data visualization\n",
    "    [] Fill in a spreadsheet (on paper)\n",
    "    [] Sketch a story\n",
    "    [] Ask good questions\n",
    "    [] Try to convince me (infographics)\n",
    "    [] Data storybook (using a crayon, few words)\n",
    "\n",
    "\n",
    "    How do we define stories in business?\n",
    "        Accounts of (real or imaginary) events that engage listener {Swift: \"proper words in proper places\", Said 1982}\n",
    "        Data stories -- combine narrative with data to make easily accessible and coherent (visuals common)\n",
    "                defn: a method of delivering messages derived from complex data analysis in a way that allows audience to quickly and easily assimilate the material, understand its meaning and draw conclusions from it. (basic comms theory)\n",
    "        1. Need a message: hypothesis, angle, importance (a direction!)\n",
    "        2. Narrative, A -> B -> ???; structure and flow, coherency; visual communication, pictures etc.\n",
    "\n",
    "    expressiveness, precision, accuracy\n",
    "       Meaning, level of detail, correctness of data\n",
    "       \n",
    "    graphs and tables are most common visuals -- and can be excellent when used correctly\n",
    "       graphs are relationships within/between data\n",
    "       tables are good to have reader look up the data for a specific X\n",
    "      \n",
    "    Gestalt theory:\n",
    "        the whole is different from the sum of its parts (perception is influenced by appearance, not by building blocks)\n",
    "        REMOVE THE CLUTTER\n",
    "  \n",
    "    \n",
    "```"
   ]
  },
  {
   "cell_type": "markdown",
   "metadata": {},
   "source": []
  },
  {
   "cell_type": "code",
   "execution_count": null,
   "metadata": {},
   "outputs": [],
   "source": []
  },
  {
   "cell_type": "code",
   "execution_count": null,
   "metadata": {},
   "outputs": [],
   "source": []
  },
  {
   "cell_type": "code",
   "execution_count": null,
   "metadata": {},
   "outputs": [],
   "source": []
  }
 ],
 "metadata": {
  "kernelspec": {
   "display_name": "Python 3",
   "language": "python",
   "name": "python3"
  },
  "language_info": {
   "codemirror_mode": {
    "name": "ipython",
    "version": 3
   },
   "file_extension": ".py",
   "mimetype": "text/x-python",
   "name": "python",
   "nbconvert_exporter": "python",
   "pygments_lexer": "ipython3",
   "version": "3.7.3"
  }
 },
 "nbformat": 4,
 "nbformat_minor": 2
}
